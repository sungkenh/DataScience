{
 "cells": [
  {
   "cell_type": "markdown",
   "metadata": {
    "collapsed": true
   },
   "source": [
    "# 뉴스 데이터 탐색\n",
    "\n",
    "이 예에서는 애플사와 관련된 뉴스 기사 데이터를 탐색해보겠다.\n",
    "\n",
    "뉴스에는 사람들의 이야기, 생각, 행동에 관하여 많은 가치 있는 정보가 들어있다. 사람들은 뉴스 기사를 분석하여 [주식 시장을 예측](http://people.kth.se/~gyozo/docs/financial-prediction.pdf)하기도 하고, 뉴스를 분석하여 관련 있는 뉴스들을 자동으로 [요약하기](http://dl.acm.org/citation.cfm?id=1289212)도 하며, 트위터의 감성을 [분석하기도](http://dl.acm.org/citation.cfm?id=1487024)한다. \n",
    "또한 작가에 대한 정치적인 성향을 [분석](https://pdfs.semanticscholar.org/3b46/d2a5ac4d26ce7f62c724663b6ee282471764.pdf)하기도 하며 관련된 뉴스나 분석을 [찾기도](http://www.aaai.org/Papers/Symposia/Spring/2006/SS-06-03/SS06-03-016.pdf)한다.\n",
    "\n",
    "이번 예제에서는 구글의 [경제 뉴스](https://www.google.com/finance/market_news) 데이터를 수집하여 [애플](http://www.apple.com/) 사에 대한 정보를 얻는 프로그램을 작성하겠다. 이 예에서 사용할 주요 라이브러리는 [Requests](http://docs.python-requests.org/en/master/), [BeautifulSoup](https://www.crummy.com/software/BeautifulSoup/bs4/doc/) 그리고 [Newspaper](http://newspaper.readthedocs.io/en/latest/)이며 이들은 아래와 같은 명령문으로 설치할 수 있다.\n",
    "\n",
    " `pip3 install requests`, \n",
    " `pip3 install bs4`,\n",
    " `pip3 install newspaper3k`."
   ]
  },
  {
   "cell_type": "markdown",
   "metadata": {},
   "source": [
    "뉴스 데이터 수집 프로그램에서 소개한 load_news() 함수를 사용하여 데이터를 로드하겠다."
   ]
  },
  {
   "cell_type": "code",
   "execution_count": 25,
   "metadata": {
    "collapsed": false
   },
   "outputs": [],
   "source": [
    "from data.load_news import load_news\n",
    "articles = load_news(overwrite=False)"
   ]
  },
  {
   "cell_type": "markdown",
   "metadata": {
    "collapsed": false
   },
   "source": [
    "위의 article 객체에는 뉴스 기사 들이 포함되어 있다"
   ]
  },
  {
   "cell_type": "code",
   "execution_count": 26,
   "metadata": {
    "collapsed": false
   },
   "outputs": [
    {
     "name": "stdout",
     "output_type": "stream",
     "text": [
      "[<newspaper.article.Article object at 0x10f850ac8>, <newspaper.article.Article object at 0x10f86b7f0>, <newspaper.article.Article object at 0x10f86be80>, <newspaper.article.Article object at 0x10f86b9e8>, <newspaper.article.Article object at 0x113907550>, <newspaper.article.Article object at 0x113907e48>, <newspaper.article.Article object at 0x113a123c8>, <newspaper.article.Article object at 0x113a12a90>, <newspaper.article.Article object at 0x113a12278>, <newspaper.article.Article object at 0x113925a20>, <newspaper.article.Article object at 0x113925b38>, <newspaper.article.Article object at 0x113907c88>, <newspaper.article.Article object at 0x113a0c7b8>, <newspaper.article.Article object at 0x113a0c7f0>, <newspaper.article.Article object at 0x113a19cc0>, <newspaper.article.Article object at 0x113a19dd8>, <newspaper.article.Article object at 0x113a20710>, <newspaper.article.Article object at 0x113a20198>, <newspaper.article.Article object at 0x113a0b630>, <newspaper.article.Article object at 0x113a0b550>, <newspaper.article.Article object at 0x113920da0>, <newspaper.article.Article object at 0x10f4d64a8>, <newspaper.article.Article object at 0x10d3a15f8>, <newspaper.article.Article object at 0x113920240>]\n"
     ]
    }
   ],
   "source": [
    "print(articles)"
   ]
  },
  {
   "cell_type": "markdown",
   "metadata": {
    "collapsed": true
   },
   "source": [
    "뉴스 기사를 포함하는 [문서](http://newspaper.readthedocs.io/en/latest/index.html) 형식을 참고하고 이제 객체의 항목들을 분석해보겠다."
   ]
  },
  {
   "cell_type": "code",
   "execution_count": 27,
   "metadata": {
    "collapsed": false
   },
   "outputs": [
    {
     "name": "stdout",
     "output_type": "stream",
     "text": [
      "['__class__', '__delattr__', '__dict__', '__dir__', '__doc__', '__eq__', '__format__', '__ge__', '__getattribute__', '__gt__', '__hash__', '__init__', '__le__', '__lt__', '__module__', '__ne__', '__new__', '__reduce__', '__reduce_ex__', '__repr__', '__setattr__', '__sizeof__', '__str__', '__subclasshook__', '__weakref__', 'additional_data', 'article_html', 'authors', 'build', 'build_resource_path', 'canonical_link', 'clean_doc', 'clean_top_node', 'config', 'doc', 'download', 'extractor', 'fetch_images', 'get_parse_candidate', 'get_resource_path', 'has_top_image', 'html', 'images', 'imgs', 'is_downloaded', 'is_media_news', 'is_parsed', 'is_valid_body', 'is_valid_url', 'keywords', 'link_hash', 'meta_data', 'meta_description', 'meta_favicon', 'meta_img', 'meta_keywords', 'meta_lang', 'movies', 'nlp', 'parse', 'publish_date', 'release_resources', 'set_article_html', 'set_authors', 'set_canonical_link', 'set_html', 'set_imgs', 'set_keywords', 'set_meta_data', 'set_meta_description', 'set_meta_favicon', 'set_meta_img', 'set_meta_keywords', 'set_meta_language', 'set_movies', 'set_reddit_top_img', 'set_summary', 'set_tags', 'set_text', 'set_title', 'set_top_img', 'set_top_img_no_check', 'source_url', 'summary', 'tags', 'text', 'title', 'top_image', 'top_img', 'top_node', 'url']\n"
     ]
    }
   ],
   "source": [
    "print(dir(articles[0]))"
   ]
  },
  {
   "cell_type": "markdown",
   "metadata": {},
   "source": [
    "파이선 코드 스타일 [가이드](https://www.python.org/dev/peps/pep-0008/#descriptive-naming-styles)를 참고하면 \"_\" 두개로 시작하고 끝나는 키워드는 파이선 프로그래밍 언어가 사용하는 키워드이다. 이러한 형식의 키워드는 그대로 두어야 한다.\n",
    "\n",
    "뉴스 데이터 수집 프로그램에서 설명한 것과 같이 \"download\"와 \"parse\"를 호출하겠다. 항목의 내용을 변경할 필요가 없으므로 \"set\"으로 시작하는 메소드는 무시하겠다. 남아있는 항목과 메소드 중에 중요한 내용은 다음과 같다: \"authors\", \"keywords\", \"meta_data\", \"meta_description\", \"meta_keywords\", \"publish_date\", \"nlp\", \"summary\", \"tags\", \"text\", \"title\".\n",
    "\n",
    "이제 \"meta_data\" 항목을 살펴보겠다."
   ]
  },
  {
   "cell_type": "code",
   "execution_count": 50,
   "metadata": {
    "collapsed": false
   },
   "outputs": [
    {
     "name": "stdout",
     "output_type": "stream",
     "text": [
      "defaultdict(<class 'dict'>, {'og': {'type': 'article', 'site_name': 'The Motley Fool', 'description': \"The tech titan's reported 100 million OLED display order could mean that the company is preparing for a surge in iPhone sales in its next fiscal year.\", 'image': 'https://g.foolcdn.com/image/?url=http%3A%2F%2Fg.foolcdn.com%2Feditorial%2Fimages%2F420044%2Fiphone7plus-jetblk-34br-leanforward_pr-print.jpg&h=630&w=1200&op=resize', 'title': 'Apple Inc. Might Be Preparing for Blowout iPhone Sales in Fiscal 2018 --  The Motley Fool', 'url': 'http://www.fool.com/investing/2016/11/21/apple-inc-might-be-preparing-for-blowout-iphone-sa.aspx'}, 'viewport': 'width=device-width, initial-scale=1.0, maximum-scale=1.0', 'pitch': 6115, 'publish_time': '14:55', 'headline': 'Apple Inc. Might Be Preparing for Blowout iPhone Sales in Fiscal 2018', 'infotrackSnippetVersion': '2.0.0', 'article_type': 'article', 'article': {'section': 'investing', 'published_time': '14:55', 'tag': 'usmf-technology-and-telecom'}, 'bureau': 'usmf-technology-and-telecom', 'uqs': '-1', 'STORY_UID': 'ba2bb9e4-afa7-11e6-bb8e-0050569d4be0', 'fb': {'pages': 7240312795, 'app_id': 50808187550}, 'gsa_date': '2016 11 21', 'date': '2016-11-21T19:55:00Z', 'promo': \"The tech titan's reported 100 million OLED display order could mean that the company is preparing for a surge in iPhone sales in its next fiscal year.\", 'title': {}, 'msvalidate.01': '8D40D58712924715BAA79D135A6C8DDA', 'tags': 'MSN,Default Partners,Yahoo News', 'tickers': 'AAPL,SSNLF', 'author': 'Ashraf Eassa', 'twitter': {'image': 'https://g.foolcdn.com/image/?url=http%3A%2F%2Fg.foolcdn.com%2Feditorial%2Fimages%2F420044%2Fiphone7plus-jetblk-34br-leanforward_pr-print.jpg&h=630&w=1200&op=resize', 'card': 'summary_large_image', 'title': 'Apple Inc. Might Be Preparing for Blowout iPhone Sales in Fiscal 2018 --  The Motley Fool', 'site': '@themotleyfool', 'description': \"The tech titan's reported 100 million OLED display order could mean that the company is preparing for a surge in iPhone sales in its next fiscal year.\"}, 'ResponsiveALP': '1Ses_investing-broker-ad-67_scroll-nobroker_50', 'description': \"The tech titan's reported 100 million OLED display order could mean that the company is preparing for a surge in iPhone sales in its next fiscal year.\"})\n"
     ]
    }
   ],
   "source": [
    "article = articles[0]\n",
    "print(article.meta_data)"
   ]
  },
  {
   "cell_type": "markdown",
   "metadata": {
    "collapsed": true
   },
   "source": [
    "위의 실행 결과를 보면 사전형식의 많은 데이터가 보이는 것을 알 수 있다. 이를 좀 더 자세히 살펴보겠다."
   ]
  },
  {
   "cell_type": "code",
   "execution_count": 54,
   "metadata": {
    "collapsed": false
   },
   "outputs": [
    {
     "name": "stdout",
     "output_type": "stream",
     "text": [
      "dict_keys(['og', 'viewport', 'pitch', 'publish_time', 'headline', 'infotrackSnippetVersion', 'article_type', 'article', 'bureau', 'uqs', 'STORY_UID', 'fb', 'gsa_date', 'date', 'promo', 'title', 'msvalidate.01', 'tags', 'tickers', 'author', 'twitter', 'ResponsiveALP', 'description'])\n"
     ]
    }
   ],
   "source": [
    "print(article.meta_data.keys())"
   ]
  },
  {
   "cell_type": "code",
   "execution_count": 55,
   "metadata": {
    "collapsed": false
   },
   "outputs": [
    {
     "name": "stdout",
     "output_type": "stream",
     "text": [
      "{}\n",
      "Apple Inc. Might Be Preparing for Blowout iPhone Sales in Fiscal 2018\n",
      "2016-11-21T19:55:00Z\n",
      "14:55\n",
      "MSN,Default Partners,Yahoo News\n",
      "Ashraf Eassa\n",
      "The tech titan's reported 100 million OLED display order could mean that the company is preparing for a surge in iPhone sales in its next fiscal year.\n",
      "The tech titan's reported 100 million OLED display order could mean that the company is preparing for a surge in iPhone sales in its next fiscal year.\n"
     ]
    }
   ],
   "source": [
    "print(article.meta_data['title'])\n",
    "print(article.meta_data['headline'])\n",
    "print(article.meta_data['date'])\n",
    "print(article.meta_data['publish_time'])\n",
    "print(article.meta_data['tags'])\n",
    "print(article.meta_data['author'])\n",
    "print(article.meta_data['description'])\n",
    "print(article.meta_data['promo'])"
   ]
  },
  {
   "cell_type": "markdown",
   "metadata": {
    "collapsed": true
   },
   "source": [
    "실행 결과는 아래와 같았다.\n",
    "\n",
    "---\n",
    "{}  \n",
    "Apple Inc. Might Be Preparing for Blowout iPhone Sales in Fiscal 2018  \n",
    "2016-11-21T19:55:00Z  \n",
    "14:55  \n",
    "MSN,Default Partners,Yahoo News  \n",
    "Ashraf Eassa  \n",
    "The tech titan's reported 100 million OLED display order could mean that the company is preparing for a surge in iPhone sales in its next fiscal year.  \n",
    "The tech titan's reported 100 million OLED display order could mean that the company is preparing for a surge in iPhone sales in its next fiscal year.\n",
    "\n",
    "---\n",
    "\n",
    "위의 실행결과를 보면, 뉴스 객체의 주요 내용인 \"authors\", \"publish_date\", \"title\" 등을 포함하고 있는 것을 알 수 있다. 이제 meta_data를 뉴스객체의 주요 항목과 비교해보자. "
   ]
  },
  {
   "cell_type": "code",
   "execution_count": 57,
   "metadata": {
    "collapsed": false
   },
   "outputs": [
    {
     "name": "stdout",
     "output_type": "stream",
     "text": [
      "['Ashraf Eassa', 'Ashraf Eassa Is A Technology Specialist With The Motley Fool. He Writes Mostly About Technology Stocks', 'But Is Especially Interested In Anything Related To Chips -- The Semiconductor Kind', 'That Is. He Can Be Reached At Tmfchipfool Gmail.Com. Follow Him On Twitter']\n",
      "2016-11-21 00:00:00\n",
      "Apple Inc. Might Be Preparing for Blowout iPhone Sales in Fiscal 2018 -- The Motley Fool\n"
     ]
    }
   ],
   "source": [
    "print(article.authors)\n",
    "print(article.publish_date)\n",
    "print(article.title)"
   ]
  },
  {
   "cell_type": "markdown",
   "metadata": {
    "collapsed": true
   },
   "source": [
    "실행 결과는 아래와 같았다. (실행시점에 따라 다르게 보일 수 있다.)\n",
    "\n",
    "---\n",
    "['Ashraf Eassa', 'Ashraf Eassa Is A Technology Specialist With The Motley Fool. He Writes Mostly About Technology Stocks', 'But Is Especially Interested In Anything Related To Chips -- The Semiconductor Kind', 'That Is. He Can Be Reached At Tmfchipfool Gmail.Com. Follow Him On Twitter']  \n",
    "2016-11-21 00:00:00  \n",
    "Apple Inc. Might Be Preparing for Blowout iPhone Sales in Fiscal 2018 -- The Motley Fool  \n",
    "\n",
    "---\n",
    "\n",
    "위의 내용을 보면 메타데이터의 meta_data['author'] 나 meta_data['publish_time']를 이용하는 것이 .authors 나 .publish_date를 이용하는 것보다 편리한 것을 알 수 있다. 한편 article.title를 이용하면 meta_data['title'] 보다 제목을 잘 표현했다. meta_data['headline']도 유용한 결과를 얻는다. \n",
    "\n",
    "이제 다른 유용한 메타 데이타 항목들을 살펴보겠다."
   ]
  },
  {
   "cell_type": "code",
   "execution_count": 60,
   "metadata": {
    "collapsed": false
   },
   "outputs": [
    {
     "name": "stdout",
     "output_type": "stream",
     "text": [
      "{}\n",
      "{}\n"
     ]
    }
   ],
   "source": [
    "print(article.meta_data['meta_description'])\n",
    "print(article.meta_data['meta_keywords'])"
   ]
  },
  {
   "cell_type": "markdown",
   "metadata": {
    "collapsed": true
   },
   "source": [
    "위의 실행결과를 보면, 결과이 빈 사전형식인 것을 알 수 있다. 이를 보면 meta_description 나 meta_keywords 가 항상 의미 있는 정보를 포함하지는 않는 것을 알 수 있다.\n",
    "\n",
    "\"keywords\" 나 \"tags\" 항목은 어떤지 알아보고 article.meta_data['tags'] 내용과 어떻게 다른지 살펴보겠다."
   ]
  },
  {
   "cell_type": "code",
   "execution_count": 62,
   "metadata": {
    "collapsed": false
   },
   "outputs": [
    {
     "name": "stdout",
     "output_type": "stream",
     "text": [
      "MSN,Default Partners,Yahoo News\n",
      "['motley', 'fool', 'blowout', 'apple', 'sales', 'plus', 'oled', 'models', 'fiscal', 'preparing', 'curved', 'million', '100', 'displays', 'iphone', '2018']\n",
      "set()\n"
     ]
    }
   ],
   "source": [
    "print(article.meta_data['tags'])\n",
    "print(article.keywords)\n",
    "print(article.tags)"
   ]
  },
  {
   "cell_type": "markdown",
   "metadata": {},
   "source": [
    "실행 결과는 아래와 같았다. (실행시점에 따라 다르게 보일 수 있다.)\n",
    "\n",
    "---\n",
    "MSN,Default Partners,Yahoo News  \n",
    "['motley', 'fool', 'blowout', 'apple', 'sales', 'plus', 'oled', 'models', 'fiscal', 'preparing', 'curved', 'million', '100', 'displays', 'iphone', '2018']  \n",
    "set()  \n",
    "\n",
    "---\n",
    "\n",
    "키워드는 유용해보이지만 meta_data['tags']은 article.tags에 잘 반영된 것으로 보이지는 않는다. 이제 자동으로 수집된 \"summary\" 속성을 해당 meta_data 부분과 비교해보겠다."
   ]
  },
  {
   "cell_type": "code",
   "execution_count": 65,
   "metadata": {
    "collapsed": false
   },
   "outputs": [
    {
     "name": "stdout",
     "output_type": "stream",
     "text": [
      "This included iPhone 6, iPhone 6 Plus, iPhone 6s, iPhone 6s Plus, iPhone SE, and an initial batch of iPhone 7 and iPhone 7 Plus sales.\n",
      "That's still 75 million iPhone models, or more than 35% of the total iPhone units that Apple shipped in fiscal year 2016.\n",
      "Some perspectiveIn fiscal year 2016, Apple shipped just shy of 212 million iPhone models.\n",
      "How many curved OLED iPhone models is Apple planning to sell?\n",
      "Let's assume Bloomberg's sources are good and Apple has ordered 100 million curved OLED displays in support of its iPhone build plans for fiscal year 2018.\n",
      "==========\n",
      "The tech titan's reported 100 million OLED display order could mean that the company is preparing for a surge in iPhone sales in its next fiscal year.\n"
     ]
    }
   ],
   "source": [
    "print(article.summary)\n",
    "print(\"==========\")\n",
    "print(article.meta_data['description'])"
   ]
  },
  {
   "cell_type": "markdown",
   "metadata": {},
   "source": [
    "실행 결과는 아래와 같았다. (실행시점에 따라 다르게 보일 수 있다.)\n",
    "\n",
    "---\n",
    "\n",
    "This included iPhone 6, iPhone 6 Plus, iPhone 6s, iPhone 6s Plus, iPhone SE, and an initial batch of iPhone 7 and iPhone 7 Plus sales.  \n",
    "That's still 75 million iPhone models, or more than 35% of the total iPhone units that Apple shipped in fiscal year 2016.  \n",
    "Some perspectiveIn fiscal year 2016, Apple shipped just shy of 212 million iPhone models.  \n",
    "How many curved OLED iPhone models is Apple planning to sell?  \n",
    "Let's assume Bloomberg's sources are good and Apple has ordered 100 million curved OLED displays in support of its iPhone build plans for fiscal year 2018.  \n",
    "\n",
    "==========  \n",
    "The tech titan's reported 100 million OLED display order could mean that the company is preparing for a surge in iPhone sales in its next fiscal year.\n",
    "\n",
    "---\n",
    "\n",
    "이를 보면 \"summary\" 은 가장 중요한 부분을 나타내는 것으로 보인다. 그러나 아직 표현이 완성되지 않은 부분이 있고 타이핑 오류 등도 보인다. \n",
    "\n",
    "지금까지의 작업은 하나의 뉴스 기사에 대한 분석이었다. 새로운 뉴스 기사에 대해서는 다른 결과를 보일 것이다. 이제 다른 뉴스 기사에 대해서 어떤 결과가 나오는지 비교해보겠다."
   ]
  },
  {
   "cell_type": "code",
   "execution_count": 69,
   "metadata": {
    "collapsed": false
   },
   "outputs": [
    {
     "name": "stdout",
     "output_type": "stream",
     "text": [
      "dict_keys(['og', 'fb', 'news_keywords', 'viewport', 'author', 'title', 'promo', 'generator', 'pubdate', 'yandex-verification', 'robots', 'keywords', 'google-site-verification', 'twitter', 'headline', 'description', 'publish_time', 'article', 'tags', 'date'])\n",
      "{}\n",
      "{}\n",
      "{}\n",
      "{}\n",
      "{}\n",
      "{}\n",
      "Apple (AAPL) is showing a more resilient chart than it has for some time, and analysts are beginning to feel optimistic about Apple stock.\n",
      "{}\n"
     ]
    }
   ],
   "source": [
    "article = articles[-1]\n",
    "print(article.meta_data.keys())\n",
    "\n",
    "\n",
    "print(article.meta_data['title'])\n",
    "print(article.meta_data['headline'])\n",
    "print(article.meta_data['date'])\n",
    "print(article.meta_data['publish_time'])\n",
    "print(article.meta_data['tags'])\n",
    "print(article.meta_data['author'])\n",
    "print(article.meta_data['description'])\n",
    "print(article.meta_data['promo'])"
   ]
  },
  {
   "cell_type": "markdown",
   "metadata": {},
   "source": [
    "실행결과는 아래와 같았다. (실행시점에 따라 다르게 보일 수 있다.)\n",
    "---\n",
    "\n",
    "dict_keys(['og', 'fb', 'news_keywords', 'viewport', 'author', 'title', 'promo', 'generator', 'pubdate', 'yandex-verification', 'robots', 'keywords', 'google-site-verification', 'twitter', 'headline', 'description', 'publish_time', 'article', 'tags', 'date'])  \n",
    "{}  \n",
    "{}  \n",
    "{}  \n",
    "{}  \n",
    "{}  \n",
    "{}  \n",
    "Apple (AAPL) is showing a more resilient chart than it has for some time, and analysts are beginning to feel optimistic about Apple stock.  \n",
    "{}  \n",
    "\n",
    "---\n",
    "\n",
    "이를 보면 첫번째 기사의 메타데이터가 두번째 기사에서는 사용되지 않은 것을 알 수 있다. 이제 각 기사에서의 메타데이터 키워드 수를 세어보고 어떤 것이 자주 발생하는 지를 살펴보겠다."
   ]
  },
  {
   "cell_type": "code",
   "execution_count": 70,
   "metadata": {
    "collapsed": false
   },
   "outputs": [
    {
     "name": "stdout",
     "output_type": "stream",
     "text": [
      "Counter({'og': 24, 'description': 24, 'twitter': 23, 'fb': 21, 'viewport': 21, 'article': 17, 'news_keywords': 14, 'robots': 14, 'generator': 12, 'keywords': 11, 'author': 10, 'google-site-verification': 7, 'msapplication-TileImage': 5, 'promo': 5, 'msapplication-square150x150logo': 5, 'msapplication-square310x310logo': 5, 'publish_time': 5, 'msapplication-wide310x150logo': 5, 'tags': 5, 'headline': 5, 'date': 5, 'msvalidate.01': 5, 'msapplication-square70x70logo': 5, 'dc.language': 4, 'dcterms.modified': 4, 'bureau': 4, 'dcterms.created': 4, 'dc.format': 4, 'ResponsiveALP': 4, 'prism.aggregationType': 4, 'dc.source': 4, 'prism.section': 4, 'uqs': 4, 'dc.date': 4, 'tickers': 4, 'dcterms.abstract': 4, 'dc.description': 4, 'article_type': 4, 'dc.publisher': 4, 'yandex-verification': 4, 'dc.title': 4, 'vr': 4, 'classification': 4, 'prism.channel': 4, 'pitch': 4, 'classification-isa': 4, 'dc.identifier': 4, 'pubdate': 4, 'infotrackSnippetVersion': 4, 'pagetype': 4, 'STORY_UID': 4, 'dc.type': 4, 'gsa_date': 4, 'application-name': 3, 'msapplication-window': 3, 'msapplication-TileColor': 3, 'apple-mobile-web-app-capable': 3, 'msapplication-tooltip': 3, 'apple-mobile-web-app-status-bar-style': 3, 'msapplication-task': 3, 'ticker': 2, 'p': 2, 'contentType': 2, '_thumbnail_id': 2, 'language': 2, 'title': 2, 'earnify-site-verification': 2, 'parsely-section': 1, 'parsely-post-id': 1, 'article.access': 1, 'page.content.source': 1, '_wpas_done_all': 1, 'article.section': 1, 'dcterms.rights': 1, 'position': 1, 'testkeys': 1, 'parsely-title': 1, 'cx_shield': 1, 'distribution': 1, 'bt': 1, 'msapplication-config': 1, 'parsely-image-url': 1, 'parsely-link': 1, 'theme-color': 1, 'page.content.type': 1, 'page.content.format': 1, 'user.type': 1, 'page.site.product': 1, 'parsely-author': 1, 'article.origheadline': 1, 'article.created': 1, 'parsely-type': 1, 'Rating': 1, 'msapplication-notification': 1, 'article.id': 1, 'page.section': 1, 'article.summary': 1, 'article.headline': 1, 'page.region': 1, 'dj.asn': 1, 'sailthru.image.full': 1, 'shareaholic': 1, 'user.exp': 1, 'article.type': 1, 'meta_description': 1, 'page.site': 1, 'parsely-tags': 1, 'cXenseParse': 1, 'verify-v1': 1, 'meta_keywords': 1, 'parsely-pub-date': 1, 'article.template': 1, 'article.updated': 1, 'sailthru.image.thumb': 1, 'article.page': 1, 'article.published': 1, 'referrer': 1, 'dcterms.audience': 1})\n"
     ]
    }
   ],
   "source": [
    "keys = []\n",
    "for article in articles:\n",
    "    keys += list(article.meta_data.keys())\n",
    "    \n",
    "from collections import Counter\n",
    "counter = Counter(keys)\n",
    "print(counter)"
   ]
  },
  {
   "cell_type": "markdown",
   "metadata": {},
   "source": [
    "실행결과는 아래와 같았다 (실행시점에 따라 다르게 보일 수 있다.)\n",
    "\n",
    "---\n",
    "\n",
    "Counter({'og': 24, 'description': 24, 'twitter': 23, 'fb': 21, 'viewport': 21, 'article': 17, 'news_keywords': 14, 'robots': 14, 'generator': 12, 'keywords': 11, 'author': 10, 'google-site-verification': 7, 'msapplication-TileImage': 5, 'promo': 5, 'msapplication-square150x150logo': 5, 'msapplication-square310x310logo': 5, 'publish_time': 5, 'msapplication-wide310x150logo': 5, 'tags': 5, 'headline': 5, 'date': 5, 'msvalidate.01': 5, 'msapplication-square70x70logo': 5, 'dc.language': 4, 'dcterms.modified': 4, 'bureau': 4, 'dcterms.created': 4, 'dc.format': 4, 'ResponsiveALP': 4, 'prism.aggregationType': 4, 'dc.source': 4, 'prism.section': 4, 'uqs': 4, 'dc.date': 4, 'tickers': 4, 'dcterms.abstract': 4, 'dc.description': 4, 'article_type': 4, 'dc.publisher': 4, 'yandex-verification': 4, 'dc.title': 4, 'vr': 4, 'classification': 4, 'prism.channel': 4, 'pitch': 4, 'classification-isa': 4, 'dc.identifier': 4, 'pubdate': 4, 'infotrackSnippetVersion': 4, 'pagetype': 4, 'STORY_UID': 4, 'dc.type': 4, 'gsa_date': 4, 'application-name': 3, 'msapplication-window': 3, 'msapplication-TileColor': 3, 'apple-mobile-web-app-capable': 3, 'msapplication-tooltip': 3, 'apple-mobile-web-app-status-bar-style': 3, 'msapplication-task': 3, 'ticker': 2, 'p': 2, 'contentType': 2, '_thumbnail_id': 2, 'language': 2, 'title': 2, 'earnify-site-verification': 2, 'parsely-section': 1, 'parsely-post-id': 1, 'article.access': 1, 'page.content.source': 1, '_wpas_done_all': 1, 'article.section': 1, 'dcterms.rights': 1, 'position': 1, 'testkeys': 1, 'parsely-title': 1, 'cx_shield': 1, 'distribution': 1, 'bt': 1, 'msapplication-config': 1, 'parsely-image-url': 1, 'parsely-link': 1, 'theme-color': 1, 'page.content.type': 1, 'page.content.format': 1, 'user.type': 1, 'page.site.product': 1, 'parsely-author': 1, 'article.origheadline': 1, 'article.created': 1, 'parsely-type': 1, 'Rating': 1, 'msapplication-notification': 1, 'article.id': 1, 'page.section': 1, 'article.summary': 1, 'article.headline': 1, 'page.region': 1, 'dj.asn': 1, 'sailthru.image.full': 1, 'shareaholic': 1, 'user.exp': 1, 'article.type': 1, 'meta_description': 1, 'page.site': 1, 'parsely-tags': 1, 'cXenseParse': 1, 'verify-v1': 1, 'meta_keywords': 1, 'parsely-pub-date': 1, 'article.template': 1, 'article.updated': 1, 'sailthru.image.thumb': 1, 'article.page': 1, 'article.published': 1, 'referrer': 1, 'dcterms.audience': 1})\n",
    "\n",
    "---\n",
    "\n",
    "자주 발생하는 특별한 키워드는 많지 않았다. 다행히 \"description\"는 대부분 나타났으며 \"news_keywords\", \"keywords\", 그리고 \"author\"는 전체의 반 정도의 횟수로 나타났다. \"publish_time\", \"tags\", \"headline\"과 \"date\"는 전체의 1/5 정도에 나타났다.\n",
    "\n",
    "이제 기사의 속성이 잘 나타나는지 살펴보겠다. "
   ]
  },
  {
   "cell_type": "code",
   "execution_count": 72,
   "metadata": {
    "collapsed": false
   },
   "outputs": [
    {
     "name": "stdout",
     "output_type": "stream",
     "text": [
      "Counter({'Brad Moon': 3, 'But Is Especially Interested In Anything Related To Chips -- The Semiconductor Kind': 2, 'Is A Cfa Charterholder.': 2, 'Evan Is A Senior Technology Specialist At The Motley Fool. He Was Previously A Senior Trading Specialist At A Major Discount Broker': 2, 'Worked Briefly At Tesla Motors. Evan Graduated The University Of Texas At Austin': 2, 'Ashraf Eassa Is A Technology Specialist With The Motley Fool. He Writes Mostly About Technology Stocks': 2, 'That Is. He Can Be Reached At Tmfchipfool Gmail.Com. Follow Him On Twitter': 2, 'Ashraf Eassa': 2, 'Evan Niu': 2, 'Tara John': 1, 'Lewis Painter': 1, 'Douglas A. Mcintyre': 1, 'Jing Pan': 1, 'Stephen Karmazyn': 1, 'Aman Jain': 1, 'Tripp Mickle': 1, 'Nov': 1, 'Anthony Mirhaydari': 1, 'Mark Gurman': 1, 'Eva Dou': 1, 'B.Sc': 1, 'About The Author': 1, 'More Stories Mark Gurman': 1, 'Adrian Mccoy': 1, 'Yoni Heisler': 1, 'Published': 1})\n",
      "24\n",
      "[datetime.datetime(2016, 11, 21, 0, 0), datetime.datetime(2016, 11, 21, 9, 40, 43), None, datetime.datetime(2016, 11, 22, 5, 4, 51, tzinfo=tzutc()), datetime.datetime(2016, 11, 21, 0, 0), datetime.datetime(2016, 11, 21, 0, 0), datetime.datetime(2016, 11, 21, 11, 7, 47, tzinfo=tzoffset(None, -18000)), datetime.datetime(2016, 11, 17, 0, 0), datetime.datetime(2016, 11, 18, 10, 4, 44, tzinfo=tzoffset(None, -18000)), datetime.datetime(2016, 11, 18, 0, 0), datetime.datetime(2016, 11, 17, 0, 0), datetime.datetime(2016, 11, 17, 3, 7, 12), datetime.datetime(2016, 11, 15, 9, 27, 19, tzinfo=tzoffset(None, -18000)), datetime.datetime(2016, 11, 17, 0, 0), datetime.datetime(2016, 11, 17, 0, 0), datetime.datetime(2016, 11, 17, 9, 19, 9, tzinfo=tzutc()), datetime.datetime(2016, 11, 18, 0, 0), datetime.datetime(2016, 11, 18, 11, 21, tzinfo=tzutc()), datetime.datetime(2016, 11, 16, 0, 0), datetime.datetime(2016, 11, 15, 2, 0, 30, tzinfo=tzoffset(None, -18000)), datetime.datetime(2016, 11, 13, 0, 0), datetime.datetime(2016, 11, 22, 0, 0), datetime.datetime(2016, 11, 22, 0, 0), datetime.datetime(2016, 11, 22, 8, 54, 51, tzinfo=tzoffset(None, -18000))]\n",
      "24\n",
      "['Apple Inc. Might Be Preparing for Blowout iPhone Sales in Fiscal 2018 -- The Motley Fool', 'Apple Inc to Replace iPhone 6s Batteries', 'Apple to Replace Faulty Batteries Free in iPhone 6s Devices', 'Apple Inc.: Analyst Issues Grim 10-year Call on AAPL Stock', 'Apple Abandons Development of Wireless Routers', 'Airport Extreme and other router products have been axed by Apple', 'Apple Inc. (AAPL) Puts the Sword to iPhone Issues', \"1 Awesome New Feature Coming to Apple Inc.'s iPhone 8\", 'Will Apple Inc. (AAPL) iPhones Be Made in the USA?', 'Apple May Move iPhone Production to US', 'Apple, Inc. Throws Video Apps a Massive Bone -- The Motley Fool', 'AAPL) Stock Still A Great Buy?', 'Apple Inc. (AAPL) Could Launch Apple Glasses by 2018', 'Apple, Inc. Reportedly Considering Making iPhones in America -- The Motley Fool', \"Apple, Inc.'s Strange Fascination With Original Content Is Misplaced and Noncommittal\", 'Apple Inc. Willing To Put OLED In iPhone 8, But Suppliers Not Ready', 'Another Way Apple, Inc. Is Pursuing Augmented Reality', 'Apple VR/AR release date and feature rumours, patents, images and more', 'Reliable Analyst Leaks Apple Inc. iPhone 8 Details -- The Motley Fool', 'Apple Inc. Is 1 Top Dividend Stock to Own Forever', 'Apple Inc. May Be Using This New Tech in iPhone 8', 'Filing Analysis: As Apple INC (AAPL) Shares Declined, Proshare Advisors LLC Has Lowered Position', 'Rating Sentiment Report: Are Analysts Bearish Apple Inc. (NASDAQ:AAPL) After Last Week?', 'Apple Inc. (AAPL) Stock Is Shrugging Off the Trump Slump']\n"
     ]
    }
   ],
   "source": [
    "authors = []\n",
    "publish_dates = []\n",
    "titles = []\n",
    "\n",
    "for article in articles:\n",
    "    authors += list(article.authors)\n",
    "    publish_dates.append(article.publish_date)\n",
    "    titles.append(article.title)\n",
    "    \n",
    "counter = Counter(authors)\n",
    "print(counter)\n",
    "\n",
    "print(len(publish_dates))\n",
    "print(publish_dates)\n",
    "\n",
    "print(len(titles))\n",
    "print(titles)"
   ]
  },
  {
   "cell_type": "markdown",
   "metadata": {},
   "source": [
    "위를 보면 publish_date는 항상 의미있는 날짜 시간 정보를 포함하고; title는 제목을 나타내며; authors는 저자의 이름을 대부분 나타내지만 가끔은 이름이 아닌 설명을 포함하기도 했다.\n",
    "\n",
    "키워드는 어떤지 살펴보겠다."
   ]
  },
  {
   "cell_type": "code",
   "execution_count": 74,
   "metadata": {
    "collapsed": false
   },
   "outputs": [
    {
     "name": "stdout",
     "output_type": "stream",
     "text": [
      "['motley', 'fool', 'blowout', 'apple', 'sales', 'plus', 'oled', 'models', 'fiscal', 'preparing', 'curved', 'million', '100', 'displays', 'iphone', '2018']\n",
      "['free', 'batteries', 'replace', 'apple', 'devices', 'defect', 'shut', '6s', 'small', 'iphone', 'unexpectedly', 'number']\n",
      "['devices', 'replace', 'apple', 'batteries', 'week', 'spontaneously', 'faulty', 'shut', 'unexpectedly', '6s', 'battery', 'shutting', 'iphone', 'worldwide', 'free']\n",
      "['uerkwitz', 'apple', 'issues', 'aapl', 'value', 'prediction', '10year', 'grim', 'analysts', 'stock', 'iphone', 'analyst', 'share', 'smartphone']\n",
      "['newsletter', 'router', 'apple', 'technology', 'markets', 'wireless', 'products', 'development', 'routers', 'business', 'receive', 'abandons']\n",
      "['router', 'apple', 'reportedly', 'product', 'products', 'axed', 'routers', 'division', 'updated', 'apples', 'extreme', 'airport']\n",
      "['apple', 'issues', 'affected', 'touch', 'aapl', 'plus', 'disease', 'repair', '6s', 'battery', 'phones', 'iphone', 'puts', 'sword']\n",
      "['incs', 'apple', 'feature', 'duallens', 'plus', 'image', 'stabilization', 'lens', 'optical', 'coming', 'secondary', 'camera', 'awesome', 'iphone']\n",
      "['review', 'apple', 'americanmade', 'aapl', 'pro', 'iphones', 'manufacturing', 'products', 'usa', 'possibility', 'iphone', 'mac']\n",
      "['united', 'review', 'apple', 'cost', 'foxconn', 'states', 'production', 'iphone', 'source', 'report']\n",
      "['motley', 'fool', 'apple', 'store', 'services', 'throws', 'video', 'bone', 'cut', 'starting', 'subscriptions', 'break', 'massive', 'apples', 'apps', 'app']\n",
      "['developed', 'apple', 'sales', 'aapl', 'market', 'way', 'buy', 'stock', 'million', 'iphone', 'growth', 'great', 'smartphone']\n",
      "['apple', 'smart', 'launch', 'technology', 'aapl', 'company', 'nasdaq', 'glasses', 'ar', 'approach', 'great', '2018']\n",
      "['america', 'motley', 'fool', 'apple', 'reportedly', 'trumps', 'iphones', 'cost', 'manufacturing', 'vocational', 'costs', 'china', 'possibility', 'making', 'iphone', 'considering']\n",
      "['original', 'incs', 'apple', 'noncommittal', 'service', 'netflix', 'right', 'content', 'fascination', 'misplaced', 'tv', 'strange', 'services', 'thats', 'app']\n",
      "['apple', 'technology', 'constraints', 'company', 'displays', 'willing', 'bloomberg', 'oled', 'expected', 'ready', 'display', 'suppliers', 'iphone']\n",
      "['motley', 'fool', 'apple', 'augmented', 'pursuing', 'smart', 'better', 'think', 'cook', 'reality', 'glasses', 'way', 'ar', 'app']\n",
      "['headset', 'images', 'rumours', 'feature', 'apple', 'augmented', 'company', 'vrar', 'technology', 'virtual', 'patents', 'vr', 'reality', 'ar', 'release', 'date', 'working']\n",
      "['probably', 'motley', 'fool', 'apple', 'kuo', 'come', 'models', 'leaks', 'display', 'lineup', 'current', 'details', '55inch', 'iphone', 'reliable', 'analyst']\n",
      "['apple', 'aapl', 'forever', 'investors', 'source', 'profits', 'stock', 'iphone', 'dividend', 'hardware', 'smartphone']\n",
      "['fool', 'apple', 'lcds', 'technology', 'displays', 'using', 'japan', 'oled', 'display', 'tech', 'lcd', 'iphone']\n",
      "['rating', 'apple', 'portfolio', 'advisors', 'lowered', 'company', 'shares', 'analysis', 'proshare', 'sold', 'llc', 'stock', 'position', 'nasdaqaapl', 'reported', 'filing', 'declined']\n",
      "['rating', 'apple', 'week', 'target', 'company', 'sentiment', 'shares', '2016', 'analysts', 'buy', 'stock', 'bearish', 'nasdaqaapl', 'report', 'broker']\n",
      "['trump', 'apple', 'looking', 'uptrend', 'aapl', 'strong', 'average', 'stock', 'wake', 'highs', 'iphone', 'slump', 'shrugging']\n"
     ]
    }
   ],
   "source": [
    "for article in articles:\n",
    "    print(article.keywords)"
   ]
  },
  {
   "cell_type": "markdown",
   "metadata": {},
   "source": [
    "대체로 의미 있는 키워드가 나타난 것으로 보인다. 이제 끝으로 요약 정보는 어떤지 살펴보겠다."
   ]
  },
  {
   "cell_type": "code",
   "execution_count": 77,
   "metadata": {
    "collapsed": false
   },
   "outputs": [
    {
     "name": "stdout",
     "output_type": "stream",
     "text": [
      "This included iPhone 6, iPhone 6 Plus, iPhone 6s, iPhone 6s Plus, iPhone SE, and an initial batch of iPhone 7 and iPhone 7 Plus sales.\n",
      "That's still 75 million iPhone models, or more than 35% of the total iPhone units that Apple shipped in fiscal year 2016.\n",
      "Some perspectiveIn fiscal year 2016, Apple shipped just shy of 212 million iPhone models.\n",
      "How many curved OLED iPhone models is Apple planning to sell?\n",
      "Let's assume Bloomberg's sources are good and Apple has ordered 100 million curved OLED displays in support of its iPhone build plans for fiscal year 2018.\n",
      "\n",
      "\n",
      "\n",
      "\n",
      "“Apple has determined that a very small number of iPhone 6s devices may unexpectedly shut down” Apple said in a statement.\n",
      "Apple is offering a free battery replacements on some of its iPhone 6s models after discovering a defect that causes the phones to randomly shut down.\n",
      "The company said Sunday that it has started the free repair program to address the fault in a “small number” of its 6s devices.\n",
      "Apple said the defect only affects devices “within a limited serial number range” that were made between September and October 2015, and it assured customers there is no safety issue.\n",
      "\n",
      "\n",
      "\n",
      "\n",
      "Apple Inc. said it would provide consumers world-wide with a free battery replacement for iPhone 6s devices that unexpectedly shut down.\n",
      "The announcement Sunday came less than a week after a Chinese consumer-protection group said it received reports of iPhone 6s devices spontaneously shutting down though half their battery life remained.\n",
      "It is the second time in the past three years the company has offered a battery-replacement...\n",
      "\n",
      "\n",
      "\n",
      "\n",
      "The share value is down by about 6.5% from a year ago, although a year ago saw AAPL stock edge around its all-time high value.\n",
      "One analyst later in the piece even went as far as to call the prediction “clickbait.”But, considering the numbers, let’s examine AAPL stock, shall we?\n",
      "As the iPhone approaches its 10th anniversary next year, “cracks are showing in the Apple wall of invulnerability,” Uerkwitz wrote.\n",
      "While many analysts agree that finding a product to rival the “iPhone” will be difficult for Apple, many are not yet as convinced as Andrew Uerkwitz is to rule out AAPL stock just yet.\n",
      "(Source: Ibid)This is quite the dire prediction for what is seen by many as an attractive long-term stock.\n",
      "\n",
      "\n",
      "\n",
      "\n",
      "If the company no longer sells wireless routers, some may have a reason to use other phones and PCs.\n",
      "Apple currently sells three wireless routers, the AirPort Express, AirPort Extreme, and AirPort Time capsule.\n",
      "Apple hasn’t refreshed its routers since 2013 following years of frequent updates to match new standards from the wireless industry.\n",
      "Some features of the AirPort routers, including wireless music playback, require an Apple device like an iPhone or Mac computer.\n",
      "The company’s decision to leave the business may be a boon for other wireless router makers.\n",
      "\n",
      "\n",
      "\n",
      "\n",
      "According to a new report from Bloomberg, Apple has disbanded the division responsible the company’s AirPort Express, AirPort Extreme, and AirPort Time capsule products.\n",
      "Commenting briefly on the matter, Kirk McElhearn astutely points out Apple killing its router division was arguably long overdue.\n",
      "I used to really like Apple’s AirPort hardware, but somewhere in the past few years, it started to suck.\n",
      "As part of a broader effort to refocus on products that contribute substantially to its bottom line, Apple is reportedly planning.\n",
      "After all, Apple hasn’t updated its aforementioned lineup of routers since 2013, itself a strong hint that Apple didn’t see a solid future for said products.\n",
      "\n",
      "\n",
      "\n",
      "\n",
      "However, the company has been busy over the past several days tidying up some issues relating to the iPhone 6 and iPhone 6s.\n",
      "iPhone 6s Battery ReplacementOn the weekend, AAPL also announced a repair program for iPhone 6s phones that were unexpectedly shutting down.\n",
      "iPhone 6 Plus Touch Disease RepairOn Friday, AAPL finally admitted to the existence of Touch Disease — the name given to an issue affecting a significant number of iPhone 6 Plus phones.\n",
      "There have been a growing number of complaints that the iPhone 6 and iPhone 6s would report a 50% battery level, then unexpectedly shut down.\n",
      "Apple Inc. (NASDAQ: AAPL ) would much rather you think about the iPhone 7.\n",
      "\n",
      "\n",
      "\n",
      "\n",
      "Firstly, the jump from a single-lens camera to a dual-lens camera is likely much more impressive to the general consumer than a move from a good dual-lens camera to a better one.\n",
      "Optical image stabilization for both lensesKuo expects that the secondary camera in next year's dual-lens iPhone models will have optical image stabilization on both the primary and secondary lenses.\n",
      "Interestingly, although the primary lens in the dual-lens subsystem includes a feature known as optical image stabilization, the secondary lens does not.\n",
      "With the iPhone 7 Plus, Apple (NASDAQ: AAPL) introduced a dual-lens camera subsystem, enabling features such as optical zoom and a simulated bokeh depth-of-field effect.\n",
      "Kuo argues that the secondary lens will need to be redesigned to support optical image stabilization.\n",
      "\n",
      "\n",
      "\n",
      "\n",
      "Apple Has Asked Partners to Put Together a “Made in the USA” PlanNikkei Asian Review says Apple approached the two Chinese companies that share the role of assembling its iPhones to investigate the possibility of making iPhones in U.S. factories.\n",
      "The Mac Pro is Apple’s professional level desktop workstation, and the most expensive Mac it offers.\n",
      "Does That Mean AAPL Could Swing an American-Made iPhone?\n",
      "And that pressure has even reached Apple Inc. (NASDAQ: AAPL ).\n",
      "Source: Carved.comA report in Nikkei Asian Review claims Apple began actively exploring the possibility in June, talking with its manufacturing partners about the possibility of an American-made iPhone.\n",
      "\n",
      "\n",
      "\n",
      "\n",
      "According to a report in Nikkei Asian Review, Apple Inc. (NASDAQ: AAPL) could do what has been unthinkable, which is to move some iPhone production to the United States.\n",
      "Key Apple assembler Hon Hai Precision Industry, also known as Foxconn Technology Group, has been studying the possibility of moving iPhone production to the U.S., sources told the Nikkei Asian Review.\n",
      "So, it is not quite clear what the goal would be to move production to the United States.\n",
      "“Apple asked both Foxconn and Pegatron, the two iPhone assemblers, in June to look into making iPhones in the U.S.,” a source said.\n",
      "Most experts have argued that assembly line production will continue to move to Asia due to the costs of American labor.\n",
      "\n",
      "\n",
      "\n",
      "\n",
      "For now, Apple will cut video services a break, but music services will have to hold out a bit longer.\n",
      "A huge break for videoIf Apple indeed goes through with it, the move would be a massive win for video services.\n",
      "It doesn't help that many smaller video services already struggle to make a profit, and 30% off the top can be prohibitively expensive.\n",
      "The App Store has now been around for eight years, with no meaningful changes to that commission.\n",
      "Many video services have long complained that Apple was asking too much, but those complaints mostly fell on deaf ears until now.\n",
      "\n",
      "\n",
      "\n",
      "\n",
      "(See also: Has Trump Fear Dragged Apple Inc. (AAPL) Stock Into Buy Territory?)\n",
      "Until that happens Apple stock price will remain under pressure.\n",
      "One of the primary reasons for the sideways movement is the slowdown in iPhone sales.\n",
      "Until Apple boosts its Services revenues, AAPL stock will remain under pressure.\n",
      "The biggest problem for Apple right now is that more than 60% of its revenues come from iPhone sales.\n",
      "\n",
      "\n",
      "\n",
      "\n",
      "However, that first public crash of the AR smart glasses concept does not appear to have scared off Apple Inc. (NASDAQ: AAPL ).\n",
      "Source: United States Patent and Trademark Office/ AppleWhat do we know about the top-secret “Apple Glasses” project?\n",
      "Bloomberg was the first to press with news that AAPL is moving from patent applications to prototypes with its Apple Glasses project.\n",
      "All of this observing and experimenting, combined with a growing consumer interest in AR, may now be culminating in Apple Glasses.\n",
      "This is the technology that’s at the heart of AR smart glasses.\n",
      "\n",
      "\n",
      "\n",
      "\n",
      "Apple made the request in June, and Trump's campaign focused heavily on using tariffs to encourage domestic manufacturing, while also demonizing Apple for manufacturing products abroad.\n",
      "China is the most efficient and cost-effective place for Apple to churn out hundreds of millions of iPhones.\n",
      "The Nikkei report quoted a source saying, \"Making iPhones in the U.S. means the cost will more than double.\"\n",
      "The president-elect posed this question to supporters in March, vowing that he would \"get Apple to start making their computers and their iPhones on our land, not in China.\"\n",
      "I don't think there's any realistic way that Apple moves the bulk of iPhone production stateside.\n",
      "\n",
      "\n",
      "\n",
      "\n",
      "In terms of owning content and creating content, we have started with focusing on some original content, as you point out.\n",
      "But original content is expensive -- Netflix just raised $1 billion in debt to fund its aggressive original content plans for 2017-- especially if you do it right.\n",
      "Continue Reading BelowIt's been about nine months since we first heard about Vital Signs, Apple's (NASDAQ: AAPL) rumored foray into original TV content that would be based on hip-hop-artist-turned-Apple-executive Dr. Dre.\n",
      "Most importantly, can you imagine a customer buying an iPhone so they can subscribe to a hypothetical Apple TV service just so they can see exclusive original content?\n",
      "We haven't heard much about the project since, but there have been various other headlines and rumors that form a mosaic around Apple's interest in original content.\n",
      "\n",
      "\n",
      "\n",
      "\n",
      "An analyst at Creative Strategies, Ben Bajarin, notes that display technology still plays an important role in consumers’ smartphone buying decision.\n",
      "Samsung Display, Japan Display, LG Display Co. and Sharp Corp. are the four largest producers of OLED screens.\n",
      "Apple probably has big plans for the iPhone 8, which is expected to be the name of the tenth anniversary edition of the iPhone, and the company has been rumored to be ready to make the switch to OLED displays.\n",
      "For this reason, Apple is at the mercy of suppliers that manufacture the displays in mass quantities, notes Bloomberg.\n",
      "Thus, Apple might have no other option but to use OLED in just one version of the next-gen iPhone 8 or even push back adoption of the technology, says Bloomberg.\n",
      "\n",
      "\n",
      "\n",
      "\n",
      "The Motley Fool has the following options: long January 2018 $90 calls on Apple and short January 2018 $95 calls on Apple.\n",
      "In fact, the newsletter they have run for over a decade, Motley Fool Stock Advisor, has tripled the market.\n",
      "It's conceivable that there will be room for both -- a market for AR-powered smart glasses as well as a market for AR-powered smartphones.\n",
      "Apple (NASDAQ: AAPL) is quite interested in augmented reality (AR).\n",
      "The Motley Fool owns shares of and recommends Apple.\n",
      "\n",
      "\n",
      "\n",
      "\n",
      "Is Apple making a VR headset, and what would an Apple VR headset look like?\n",
      "If the Apple VR device is real, when can we expect an Apple virtual reality device to be announced?\n",
      "If there is to be an Apple VR announcement from Apple, we'll hear more rumours as time progresses.\n",
      "There are multiple rumours that Apple is developing a virtual reality (VR), or augmented reality (AR) device, going back well over a year.\n",
      "In this feature, we are going to look at all the latest Apple VR rumours, patents and leaked images - including the remarks that Tim Cook made during an interview in October 2016.\n",
      "\n",
      "\n",
      "\n",
      "\n",
      "Three iPhone modelsIn line with previous rumors, Kuo says Apple is planning to launch three iPhone variants next year.\n",
      "In a recent note to investors, by way of MacRumors, Kuo offers up some predictions about next year's iPhone lineup, which will presumably be marketed as the iPhone 8.\n",
      "The lineup Kuo predicts would represent a straightforward expansion of the current iPhone lineup, with Apple simply offering a third screen size option in addition to its current 4.7-inch and 5.5-inch display options.\n",
      "KGI Securities analyst Ming-Chi Kuo is widely considered one of the most reliable sources of information about upcoming Apple (NASDAQ:AAPL) products, including the company's iconic iPhone product line.\n",
      "Further, by offering a premium 5-5-inch OLED-display-bearing model at an even higher price point, targeting customers who did enjoy the large 5.5-inch display on the prior Plus models, Apple could further enrich its iPhone average selling prices.\n",
      "\n",
      "\n",
      "\n",
      "\n",
      "AAPL Stock: Apple Inc. Is 1 Top Dividend Stock to Own ForeverForget Apple Stock Bears, the iPhone Maker Still DominatesI never thought I’d say this about a hardware device maker, but I believe that Apple Inc. (NASDAQ:AAPL) stock is one dividend stock worth owning forever.\n",
      "Bottom line: AAPL stock might not carry as much upside momentum as before, but it has certainly become a stock worth having in a dividend investor’s portfolio.\n",
      "The Bottom Line on AAPL StockDon’t forget, dividend investors of Apple stock now also have something else to look forward to: its booming services segment.\n",
      "(Source: “Apple Reports Fourth Quarter Results,” Apple Inc, October 25, 2016.)\n",
      "However, they might want to make an exception for Apple stock.\n",
      "\n",
      "\n",
      "\n",
      "\n",
      "Japan Display also said it \"aims to start mass production of this display by the end of March, 2017.\"\n",
      "This table from Japan Display shows a table pitching the advantages of Japan Display's yet-to-be-released third-generation full active LCDs against OLED technology:Image source: Japan Display.\n",
      "The Motley Fool has the following options: long January 2018 $90 calls on Apple and short January 2018 $95 calls on Apple.\n",
      "I believe that to enable this form factor in the models incorporating liquid crystal displays, Apple may use a new technology that longtime iPhone display supplier Japan Display called a \"full active\" liquid crystal display, or LCD.\n",
      "In any event, Japan Display claims advantages in power efficiency, brightness viewing angles, lifetime, cost, and \"designability.\"\n",
      "\n",
      "\n",
      "\n",
      "\n",
      "Proshare Advisors Llc sold 108,622 shares as the company’s stock declined 13.08% while stock markets rallied.\n",
      "269,883 Apple Inc. (NASDAQ:AAPL) shares with value of $28.70M were sold by COOK TIMOTHY D. $1.07M worth of Apple Inc. (NASDAQ:AAPL) was sold by Srouji Johny.\n",
      "Proshare Advisors Llc decreased its stake in Apple Inc (AAPL) by 4.31% based on its latest 2016Q2 regulatory filing with the SEC.\n",
      "On Wednesday, April 20 the stock rating was maintained by Barclays Capital with “Overweight”.\n",
      "On Wednesday, October 26 the stock rating was maintained by Citigroup with “Buy”.\n",
      "\n",
      "\n",
      "\n",
      "\n",
      "Rating Sentiment Report: Are Analysts Bearish Apple Inc. (NASDAQ:AAPL) After Last Week?\n",
      "On Wednesday, October 28 the stock rating was upgraded by Pacific Crest to “Overweight”.\n",
      "The stock of Apple Inc. (NASDAQ:AAPL) has “Overweight” rating given on Friday, August 14 by Piper Jaffray.\n",
      "As per Thursday, June 2, the company rating was maintained by Goldman Sachs.\n",
      "The firm has “Buy” rating given on Friday, September 11 by Nomura.\n",
      "\n",
      "\n",
      "\n",
      "\n",
      "Stepping back a little, the weekly chart reveals that AAPL stock remains in a medium-term uptrend.\n",
      "Overall, they are looking for the company to return to growth next quarter and maintain a $140 price target on Apple stock.\n",
      "Reason for Positivity in Apple Stock?\n",
      "Apple stock pushed to monthly highs on Monday, retaking its 20-day moving average for the first time since falling from its October high near $117.50.\n",
      "The pattern of higher highs and higher lows in Apple stock over the past five months stands in contrast to the persistent downtrend the stock suffered between 2014 and 2015.\n",
      "\n",
      "\n",
      "\n",
      "\n"
     ]
    }
   ],
   "source": [
    "for article in articles:\n",
    "    print(article.summary)\n",
    "    print(\"\\n\\n\\n\")"
   ]
  },
  {
   "cell_type": "markdown",
   "metadata": {},
   "source": [
    "요약 정보를 보면 상당히 자세한 요약을 보여주고 있다. 기사의 주요 내용인 (title, summary, publish_date, authors)이 대부분 포함되어 있는 것을 알 수 있고 일부 메타데이터 (description, news_keywords, keywords, author, tags, headline, date)들도 여기서 확인할 수 있다.\n",
    "\n",
    "지금까지의 데이터 탐색외에 많을 것을 분석해볼 수 있는데, 기사의 다른 속성들을 살펴볼 수 있을 것이다. 기사가 만들어진 배경의 어떤 특징(feature) 값들이 있는지, 키워드들이 포함되어 있는지를 살펴볼 수 있으며 기사에 포함된 이미지도 찾아볼 수 있다. 여러 관련된 기사들에 걸쳐서 어떤 메타 데이터가 들어 있는지를 보고 공통된 특징을 볼 수 도 있고, 수집된 기사에 대해서 자연어 처리를 할 수 있는 준비를 할 수도 있다.\n",
    "\n",
    "이제 더 많은 질문을 통해서 더 많은 탐색이 가능하며 이를 통해 데이터를 더 잘 이해하고 상세한 분석을 위해서 어떤 작업이 더 필요한지를 이해할 수 있을 것이다."
   ]
  }
 ],
 "metadata": {
  "anaconda-cloud": {},
  "kernelspec": {
   "display_name": "Python [default]",
   "language": "python",
   "name": "python3"
  },
  "language_info": {
   "codemirror_mode": {
    "name": "ipython",
    "version": 3
   },
   "file_extension": ".py",
   "mimetype": "text/x-python",
   "name": "python",
   "nbconvert_exporter": "python",
   "pygments_lexer": "ipython3",
   "version": "3.5.2"
  }
 },
 "nbformat": 4,
 "nbformat_minor": 1
}
