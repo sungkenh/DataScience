{
 "cells": [
  {
   "cell_type": "markdown",
   "metadata": {},
   "source": [
    "# Generating Recommendations with Collaborative filtering "
   ]
  },
  {
   "cell_type": "code",
   "execution_count": 1,
   "metadata": {
    "collapsed": false
   },
   "outputs": [],
   "source": [
    "%matplotlib inline\n",
    "import numpy as np\n",
    "import pandas as pd\n",
    "import matplotlib.pyplot as plt\n",
    "from math import sqrt\n",
    "from scipy.stats.stats import pearsonr  "
   ]
  },
  {
   "cell_type": "markdown",
   "metadata": {},
   "source": [
    "## Recommendations Data"
   ]
  },
  {
   "cell_type": "markdown",
   "metadata": {},
   "source": [
    "We are going to use set of users who have given ratings to the movies of their choice. The following is a dict object containg the different users as keys and their values are a dictionary of movies with each movie's value being the rating given by the user"
   ]
  },
  {
   "cell_type": "code",
   "execution_count": 2,
   "metadata": {
    "collapsed": false
   },
   "outputs": [
    {
     "data": {
      "text/plain": [
       "7.0"
      ]
     },
     "execution_count": 2,
     "metadata": {},
     "output_type": "execute_result"
    }
   ],
   "source": [
    "movie_user_preferences={'Jill': {'Avenger: Age of Ultron': 7.0,\n",
    "  'Django Unchained': 6.5,\n",
    "  'Gone Girl': 9.0,\n",
    "  'Kill the Messenger': 8.0},\n",
    " 'Julia': {'Avenger: Age of Ultron': 10.0,\n",
    "  'Django Unchained': 6.0,\n",
    "  'Gone Girl': 6.5,\n",
    "  'Kill the Messenger': 6.0,\n",
    "  'Zoolander': 6.5},\n",
    " 'Max': {'Avenger: Age of Ultron': 7.0,\n",
    "  'Django Unchained': 7.0,\n",
    "  'Gone Girl': 10.0,\n",
    "  'Horrible Bosses 2': 6.0,\n",
    "  'Kill the Messenger': 5.0,\n",
    "  'Zoolander': 10.0},\n",
    " 'Robert': {'Avenger: Age of Ultron': 8.0,\n",
    "  'Django Unchained': 7.0,\n",
    "  'Horrible Bosses 2': 5.0,\n",
    "  'Kill the Messenger': 9.0,\n",
    "  'Zoolander': 9.0},\n",
    " 'Sam': {'Avenger: Age of Ultron': 10.0,\n",
    "  'Django Unchained': 7.5,\n",
    "  'Gone Girl': 6.0,\n",
    "  'Horrible Bosses 2': 3.0,\n",
    "  'Kill the Messenger': 5.5,\n",
    "  'Zoolander': 7.0},\n",
    " 'Toby': {'Avenger: Age of Ultron': 8.5,\n",
    "  'Django Unchained': 9.0,\n",
    "  'Zoolander': 2.0},\n",
    " 'William': {'Avenger: Age of Ultron': 6.0,\n",
    "  'Django Unchained': 8.0,\n",
    "  'Gone Girl': 7.0,\n",
    "  'Horrible Bosses 2': 4.0,\n",
    "  'Kill the Messenger': 6.5,\n",
    "  'Zoolander': 4.0}}\n",
    "\n",
    "movie_user_preferences['William']['Gone Girl']"
   ]
  },
  {
   "cell_type": "markdown",
   "metadata": {},
   "source": [
    "## User Based Collaborative Fitlering"
   ]
  },
  {
   "cell_type": "markdown",
   "metadata": {},
   "source": [
    "Lets start to build a user based collaborative filtering by finding users who are similar to each other"
   ]
  },
  {
   "cell_type": "markdown",
   "metadata": {},
   "source": [
    "### Finding similar users"
   ]
  },
  {
   "cell_type": "markdown",
   "metadata": {},
   "source": [
    "When you have the data about what people like, you need a way to determine the similarity between the different users. The similarity between the different users is determined by comparing each user with every other user and computing a similarity score. This similarity score can be computed using the Pearson correlation, Euclidean Distance, Manhattan Distance etc. "
   ]
  },
  {
   "cell_type": "markdown",
   "metadata": {},
   "source": [
    "#### Euclidean Distance Score"
   ]
  },
  {
   "cell_type": "markdown",
   "metadata": {},
   "source": [
    "Euclidean distance is the minimum distance between two points in space. Let's try to understand this by plotting the users who have watched Gone Girl and Avengers"
   ]
  },
  {
   "cell_type": "code",
   "execution_count": 3,
   "metadata": {
    "collapsed": false
   },
   "outputs": [
    {
     "data": {
      "text/html": [
       "<div>\n",
       "<table border=\"1\" class=\"dataframe\">\n",
       "  <thead>\n",
       "    <tr style=\"text-align: right;\">\n",
       "      <th></th>\n",
       "      <th>user</th>\n",
       "      <th>django</th>\n",
       "      <th>avenger</th>\n",
       "    </tr>\n",
       "  </thead>\n",
       "  <tbody>\n",
       "    <tr>\n",
       "      <th>0</th>\n",
       "      <td>William</td>\n",
       "      <td>8.0</td>\n",
       "      <td>6.0</td>\n",
       "    </tr>\n",
       "    <tr>\n",
       "      <th>1</th>\n",
       "      <td>Robert</td>\n",
       "      <td>7.0</td>\n",
       "      <td>8.0</td>\n",
       "    </tr>\n",
       "    <tr>\n",
       "      <th>2</th>\n",
       "      <td>Jill</td>\n",
       "      <td>6.5</td>\n",
       "      <td>7.0</td>\n",
       "    </tr>\n",
       "    <tr>\n",
       "      <th>3</th>\n",
       "      <td>Max</td>\n",
       "      <td>7.0</td>\n",
       "      <td>7.0</td>\n",
       "    </tr>\n",
       "    <tr>\n",
       "      <th>4</th>\n",
       "      <td>Sam</td>\n",
       "      <td>7.5</td>\n",
       "      <td>10.0</td>\n",
       "    </tr>\n",
       "    <tr>\n",
       "      <th>5</th>\n",
       "      <td>Julia</td>\n",
       "      <td>6.0</td>\n",
       "      <td>10.0</td>\n",
       "    </tr>\n",
       "    <tr>\n",
       "      <th>6</th>\n",
       "      <td>Toby</td>\n",
       "      <td>9.0</td>\n",
       "      <td>8.5</td>\n",
       "    </tr>\n",
       "  </tbody>\n",
       "</table>\n",
       "</div>"
      ],
      "text/plain": [
       "      user  django  avenger\n",
       "0  William     8.0      6.0\n",
       "1   Robert     7.0      8.0\n",
       "2     Jill     6.5      7.0\n",
       "3      Max     7.0      7.0\n",
       "4      Sam     7.5     10.0\n",
       "5    Julia     6.0     10.0\n",
       "6     Toby     9.0      8.5"
      ]
     },
     "execution_count": 3,
     "metadata": {},
     "output_type": "execute_result"
    }
   ],
   "source": [
    "data = []\n",
    "for i in movie_user_preferences.keys():\n",
    "    try:\n",
    "        data.append( (i\n",
    "        ,movie_user_preferences[i]['Django Unchained']\n",
    "        ,movie_user_preferences[i]['Avenger: Age of Ultron']) )\n",
    "    except:\n",
    "        pass\n",
    "        \n",
    "    \n",
    "df = pd.DataFrame(data = data, columns = ['user', 'django', 'avenger'])\n",
    "df"
   ]
  },
  {
   "cell_type": "code",
   "execution_count": 4,
   "metadata": {
    "collapsed": false
   },
   "outputs": [
    {
     "data": {
      "image/png": "[encoded data removed]",
      "text/plain": [
       "<matplotlib.figure.Figure at 0x7f012bb84208>"
      ]
     },
     "metadata": {},
     "output_type": "display_data"
    }
   ],
   "source": [
    "plt.scatter(df.django, df.avenger)\n",
    "plt.xlabel('Django')\n",
    "plt.ylabel('Avengers')\n",
    "for i,txt in enumerate(df.user):\n",
    "    plt.annotate(txt, (df.django[i],df.avenger[i]))\n",
    "plt.show()"
   ]
  },
  {
   "cell_type": "markdown",
   "metadata": {},
   "source": [
    "We can see that Jill and Toby are quite far from each other where as Robert and Max are quite close to each other. Let's compute the Euclidean distance between each other."
   ]
  },
  {
   "cell_type": "code",
   "execution_count": 5,
   "metadata": {
    "collapsed": false
   },
   "outputs": [
    {
     "data": {
      "text/plain": [
       "3.1622776601683795"
      ]
     },
     "execution_count": 5,
     "metadata": {},
     "output_type": "execute_result"
    }
   ],
   "source": [
    "#Euclidean distance between Jill and Toby\n",
    "sqrt(pow(8-7,2)+pow(9-6,2))"
   ]
  },
  {
   "cell_type": "code",
   "execution_count": 6,
   "metadata": {
    "collapsed": false
   },
   "outputs": [
    {
     "data": {
      "text/plain": [
       "1.0"
      ]
     },
     "execution_count": 6,
     "metadata": {},
     "output_type": "execute_result"
    }
   ],
   "source": [
    "#Euclidean distance between Robert and Max\n",
    "sqrt(pow(8-7,2)+pow(7-7,2))"
   ]
  },
  {
   "cell_type": "markdown",
   "metadata": {},
   "source": [
    "We can see that the further the user are away from each other, the euclidean distance is higher. We'll convert the euclidean distance to show that the higher values indicate more similarity. This can be done by inverting the euclidean distance and also adding one so that there is no divide by zero"
   ]
  },
  {
   "cell_type": "code",
   "execution_count": 7,
   "metadata": {
    "collapsed": false
   },
   "outputs": [
    {
     "data": {
      "text/plain": [
       "0.2402530733520421"
      ]
     },
     "execution_count": 7,
     "metadata": {},
     "output_type": "execute_result"
    }
   ],
   "source": [
    "#Similarity Score based on Euclidean distance between Jill and Toby\n",
    "1/(1 + sqrt(pow(8-7,2)+pow(9-6,2)) )"
   ]
  },
  {
   "cell_type": "code",
   "execution_count": 8,
   "metadata": {
    "collapsed": false
   },
   "outputs": [
    {
     "data": {
      "text/plain": [
       "0.5"
      ]
     },
     "execution_count": 8,
     "metadata": {},
     "output_type": "execute_result"
    }
   ],
   "source": [
    "#Similarity Score based on Euclidean distance between Robert and Max\n",
    "1/(1 + sqrt(pow(8-7,2)+pow(7-7,2)) )"
   ]
  },
  {
   "cell_type": "markdown",
   "metadata": {},
   "source": [
    "Let's create a function that calcuates the similarity score between two users"
   ]
  },
  {
   "cell_type": "code",
   "execution_count": 9,
   "metadata": {
    "collapsed": false
   },
   "outputs": [],
   "source": [
    "# Returns a distance-based similarity score for person1 and person2\n",
    "def sim_distance(prefs,person1,person2):\n",
    "    # Get the list of shared_items\n",
    "    si={}\n",
    "    for item in prefs[person1]:\n",
    "        if item in prefs[person2]:\n",
    "            si[item]=1\n",
    "            \n",
    "    # if they have no ratings in common, return 0\n",
    "    if len(si)==0: return 0\n",
    "    \n",
    "    # Add up the squares of all the differences\n",
    "    sum_of_squares=sum([pow(prefs[person1][item]-prefs[person2][item],2)\n",
    "    for item in prefs[person1] if item in prefs[person2]])\n",
    "    \n",
    "    return 1/(1+sum_of_squares)"
   ]
  },
  {
   "cell_type": "markdown",
   "metadata": {},
   "source": [
    "Let's apply the above function to calculate the similarity score between Sam and Toby"
   ]
  },
  {
   "cell_type": "code",
   "execution_count": 10,
   "metadata": {
    "collapsed": false
   },
   "outputs": [
    {
     "data": {
      "text/plain": [
       "0.03278688524590164"
      ]
     },
     "execution_count": 10,
     "metadata": {},
     "output_type": "execute_result"
    }
   ],
   "source": [
    "sim_distance(movie_user_preferences,'Sam','Toby')"
   ]
  },
  {
   "cell_type": "markdown",
   "metadata": {},
   "source": [
    "#### Pearson Correlation Score"
   ]
  },
  {
   "cell_type": "markdown",
   "metadata": {},
   "source": [
    "We have already studied what is peasron correlation in chapter 2. We'll use pearson correlation to compute the similiarity score between two users.\n",
    "\n",
    "Lets see how Sam and Toby are correlated to each other"
   ]
  },
  {
   "cell_type": "code",
   "execution_count": 11,
   "metadata": {
    "collapsed": false
   },
   "outputs": [
    {
     "data": {
      "text/html": [
       "<div>\n",
       "<table border=\"1\" class=\"dataframe\">\n",
       "  <thead>\n",
       "    <tr style=\"text-align: right;\">\n",
       "      <th></th>\n",
       "      <th>movie</th>\n",
       "      <th>Sam</th>\n",
       "      <th>William</th>\n",
       "    </tr>\n",
       "  </thead>\n",
       "  <tbody>\n",
       "    <tr>\n",
       "      <th>0</th>\n",
       "      <td>Django Unchained</td>\n",
       "      <td>7.5</td>\n",
       "      <td>8.0</td>\n",
       "    </tr>\n",
       "    <tr>\n",
       "      <th>1</th>\n",
       "      <td>Zoolander</td>\n",
       "      <td>7.0</td>\n",
       "      <td>4.0</td>\n",
       "    </tr>\n",
       "    <tr>\n",
       "      <th>2</th>\n",
       "      <td>Kill the Messenger</td>\n",
       "      <td>5.5</td>\n",
       "      <td>6.5</td>\n",
       "    </tr>\n",
       "    <tr>\n",
       "      <th>3</th>\n",
       "      <td>Avenger: Age of Ultron</td>\n",
       "      <td>10.0</td>\n",
       "      <td>6.0</td>\n",
       "    </tr>\n",
       "    <tr>\n",
       "      <th>4</th>\n",
       "      <td>Horrible Bosses 2</td>\n",
       "      <td>3.0</td>\n",
       "      <td>4.0</td>\n",
       "    </tr>\n",
       "    <tr>\n",
       "      <th>5</th>\n",
       "      <td>Gone Girl</td>\n",
       "      <td>6.0</td>\n",
       "      <td>7.0</td>\n",
       "    </tr>\n",
       "  </tbody>\n",
       "</table>\n",
       "</div>"
      ],
      "text/plain": [
       "                    movie   Sam  William\n",
       "0        Django Unchained   7.5      8.0\n",
       "1               Zoolander   7.0      4.0\n",
       "2      Kill the Messenger   5.5      6.5\n",
       "3  Avenger: Age of Ultron  10.0      6.0\n",
       "4       Horrible Bosses 2   3.0      4.0\n",
       "5               Gone Girl   6.0      7.0"
      ]
     },
     "execution_count": 11,
     "metadata": {},
     "output_type": "execute_result"
    }
   ],
   "source": [
    "def create_movie_user_df(input_data, user1, user2):\n",
    "    data = []\n",
    "    for movie in input_data[user1].keys():\n",
    "        if movie in input_data[user2].keys():\n",
    "            try:\n",
    "                data.append( (movie\n",
    "                ,input_data[user1][movie]\n",
    "                ,input_data[user2][movie]) )\n",
    "            except:\n",
    "                pass\n",
    "            \n",
    "        \n",
    "    return pd.DataFrame(data = data, columns = ['movie', user1, user2])\n",
    "\n",
    "df = create_movie_user_df(movie_user_preferences, 'Sam', 'William')\n",
    "df"
   ]
  },
  {
   "cell_type": "code",
   "execution_count": 12,
   "metadata": {
    "collapsed": false
   },
   "outputs": [
    {
     "data": {
      "image/png": "[encoded data removed]",
      "text/plain": [
       "<matplotlib.figure.Figure at 0x7f01297b55f8>"
      ]
     },
     "metadata": {},
     "output_type": "display_data"
    }
   ],
   "source": [
    "plt.scatter(df.Sam, df.William)\n",
    "plt.xlabel('Sam')\n",
    "plt.ylabel('William')\n",
    "for i,txt in enumerate(df.movie):\n",
    "    plt.annotate(txt, (df.Sam[i],df.William[i]))\n",
    "plt.show()"
   ]
  },
  {
   "cell_type": "markdown",
   "metadata": {},
   "source": [
    "Let's compute the pearson correlation between Sam and William"
   ]
  },
  {
   "cell_type": "code",
   "execution_count": 13,
   "metadata": {
    "collapsed": false
   },
   "outputs": [
    {
     "data": {
      "text/plain": [
       "(0.37067401970178421, 0.46945413268410918)"
      ]
     },
     "execution_count": 13,
     "metadata": {},
     "output_type": "execute_result"
    }
   ],
   "source": [
    "pearsonr(df.Sam,df.William)"
   ]
  },
  {
   "cell_type": "markdown",
   "metadata": {},
   "source": [
    "Let's see the scatter plot between "
   ]
  },
  {
   "cell_type": "code",
   "execution_count": 14,
   "metadata": {
    "collapsed": false
   },
   "outputs": [
    {
     "data": {
      "image/png": "[encoded data removed]",
      "text/plain": [
       "<matplotlib.figure.Figure at 0x7f0129521cc0>"
      ]
     },
     "metadata": {},
     "output_type": "display_data"
    }
   ],
   "source": [
    "df = create_movie_user_df(movie_user_preferences, 'Sam', 'Julia')\n",
    "df\n",
    "\n",
    "plt.scatter(df.Sam, df.Julia)\n",
    "plt.xlabel('Sam')\n",
    "plt.ylabel('Julia')\n",
    "for i,txt in enumerate(df.movie):\n",
    "    plt.annotate(txt, (df.Sam[i],df.Julia[i]))\n",
    "plt.show()"
   ]
  },
  {
   "cell_type": "markdown",
   "metadata": {},
   "source": [
    "Let's compute the pearson correlation Sam and Julia"
   ]
  },
  {
   "cell_type": "code",
   "execution_count": 15,
   "metadata": {
    "collapsed": false
   },
   "outputs": [
    {
     "data": {
      "text/plain": [
       "(0.88285183326025085, 0.047277507003439599)"
      ]
     },
     "execution_count": 15,
     "metadata": {},
     "output_type": "execute_result"
    }
   ],
   "source": [
    "pearsonr(df.Sam,df.Julia)"
   ]
  },
  {
   "cell_type": "markdown",
   "metadata": {},
   "source": [
    "We can see that Sam and Julia are very similar to each other"
   ]
  },
  {
   "cell_type": "code",
   "execution_count": 16,
   "metadata": {
    "collapsed": false
   },
   "outputs": [],
   "source": [
    "# Returns the Pearson correlation coefficient for p1 and p2\n",
    "def sim_pearson(prefs,p1,p2):\n",
    "    # Get the list of mutually rated items\n",
    "    si={}\n",
    "    for item in prefs[p1]:\n",
    "        if item in prefs[p2]: si[item]=1\n",
    "            \n",
    "    # Find the number of elements\n",
    "    n=len(si)\n",
    "    \n",
    "    # if they are no ratings in common, return 0\n",
    "    if n==0: return 0\n",
    "    \n",
    "    # Add up all the preferences\n",
    "    sum1=sum([prefs[p1][it] for it in si])\n",
    "    sum2=sum([prefs[p2][it] for it in si])\n",
    "    \n",
    "    # Sum up the squares\n",
    "    sum1Sq=sum([pow(prefs[p1][it],2) for it in si])\n",
    "    sum2Sq=sum([pow(prefs[p2][it],2) for it in si])\n",
    "    \n",
    "    # Sum up the products\n",
    "    pSum=sum([prefs[p1][it]*prefs[p2][it] for it in si])\n",
    "    \n",
    "    # Calculate Pearson score\n",
    "    num=pSum-(sum1*sum2/n)\n",
    "    den=sqrt((sum1Sq-pow(sum1,2)/n)*(sum2Sq-pow(sum2,2)/n))\n",
    "    if den==0: return 0\n",
    "    \n",
    "    r=num/den\n",
    "    \n",
    "    return r\n"
   ]
  },
  {
   "cell_type": "markdown",
   "metadata": {},
   "source": [
    "Let's compute the pearson correlation between Sam and Julia using the above function and verify if its computing correctly"
   ]
  },
  {
   "cell_type": "code",
   "execution_count": 17,
   "metadata": {
    "collapsed": false
   },
   "outputs": [
    {
     "data": {
      "text/plain": [
       "0.8828518332602507"
      ]
     },
     "execution_count": 17,
     "metadata": {},
     "output_type": "execute_result"
    }
   ],
   "source": [
    "sim_pearson(movie_user_preferences,'Sam','Julia')"
   ]
  },
  {
   "cell_type": "markdown",
   "metadata": {},
   "source": [
    "### Ranking the users"
   ]
  },
  {
   "cell_type": "markdown",
   "metadata": {},
   "source": [
    "Once we have the methods of computing the similarity between the users, we then proceed to the rank the users based on the similarity between a particular user. I would like to know who are the people who are most similar to me. We can achieve this with the following code "
   ]
  },
  {
   "cell_type": "code",
   "execution_count": 18,
   "metadata": {
    "collapsed": false
   },
   "outputs": [],
   "source": [
    "def topMatches(prefs,person,n=5,similarity=sim_pearson):\n",
    "    scores=[(similarity(prefs,person,other),other)\n",
    "        for other in prefs if other!=person]\n",
    "    \n",
    "    # Sort the list so the highest scores appear at the top\n",
    "    scores.sort( )\n",
    "    scores.reverse( )\n",
    "    return scores[0:n]"
   ]
  },
  {
   "cell_type": "markdown",
   "metadata": {},
   "source": [
    "Let's see who are top 3 people who are similar to Sam"
   ]
  },
  {
   "cell_type": "code",
   "execution_count": 19,
   "metadata": {
    "collapsed": false
   },
   "outputs": [
    {
     "data": {
      "text/plain": [
       "[(0.10526315789473684, 'Jill'),\n",
       " (0.08163265306122448, 'William'),\n",
       " (0.03278688524590164, 'Sam')]"
      ]
     },
     "execution_count": 19,
     "metadata": {},
     "output_type": "execute_result"
    }
   ],
   "source": [
    "topMatches(movie_user_preferences,'Toby', n = 3, similarity = sim_distance)"
   ]
  },
  {
   "cell_type": "markdown",
   "metadata": {},
   "source": [
    "### Recommending Items"
   ]
  },
  {
   "cell_type": "markdown",
   "metadata": {},
   "source": [
    "Once you know who are similar to you, you would now like to know which are the movies that should be recommended. The following shows how to compute a score for the movies so that we can know which is the most recommended movie"
   ]
  },
  {
   "cell_type": "markdown",
   "metadata": {},
   "source": [
    "<img src=\"files/images/similiarity.png\">"
   ]
  },
  {
   "cell_type": "markdown",
   "metadata": {},
   "source": [
    "We multiply the similiarity score of with the movie ratings of each of the user. We then sum this new score and then divide with the applicable similiarity score. In summary, we are taking weighted average based on the similiarity score.\n",
    "\n",
    "From the above, we can see that Gone Girl has a very good score to be recommended and then followed by Kill the Messenger"
   ]
  },
  {
   "cell_type": "markdown",
   "metadata": {},
   "source": [
    "We'll now create a function which will generate recommendations for a user by encompassing the above logic"
   ]
  },
  {
   "cell_type": "code",
   "execution_count": 20,
   "metadata": {
    "collapsed": false
   },
   "outputs": [],
   "source": [
    "# Gets recommendations for a person by using a weighted average\n",
    "# of every other user's rankings\n",
    "def getRecommendations(prefs,person,similarity=sim_pearson):\n",
    "    totals={}\n",
    "    simSums={}\n",
    "    for other in prefs:\n",
    "        # don't compare me to myself\n",
    "        if other==person: continue\n",
    "        sim=similarity(prefs,person,other)\n",
    "        \n",
    "        # ignore scores of zero or lower\n",
    "        if sim<=0: continue\n",
    "        for item in prefs[other]:\n",
    "            \n",
    "            # only score movies I haven't seen yet\n",
    "            if item not in prefs[person] or prefs[person][item]==0:\n",
    "                # Similarity * Score\n",
    "                totals.setdefault(item,0)\n",
    "                totals[item]+=prefs[other][item]*sim\n",
    "                # Sum of similarities\n",
    "                simSums.setdefault(item,0)\n",
    "                simSums[item]+=sim\n",
    "                \n",
    "    # Create the normalized list\n",
    "    rankings=[(total/simSums[item],item) for item,total in totals.items( )]\n",
    "    \n",
    "    # Return the sorted list\n",
    "    rankings.sort( )\n",
    "    rankings.reverse( )\n",
    "    return rankings"
   ]
  },
  {
   "cell_type": "markdown",
   "metadata": {},
   "source": [
    "Let's get the recommendation using the above function"
   ]
  },
  {
   "cell_type": "code",
   "execution_count": 21,
   "metadata": {
    "collapsed": false
   },
   "outputs": [
    {
     "data": {
      "text/plain": [
       "[(6.587965809121003, 'Gone Girl'),\n",
       " (6.087965809121002, 'Kill the Messenger'),\n",
       " (3.608127720528246, 'Horrible Bosses 2')]"
      ]
     },
     "execution_count": 21,
     "metadata": {},
     "output_type": "execute_result"
    }
   ],
   "source": [
    "getRecommendations(movie_user_preferences,'Toby')"
   ]
  },
  {
   "cell_type": "code",
   "execution_count": 22,
   "metadata": {
    "collapsed": false
   },
   "outputs": [
    {
     "data": {
      "text/plain": [
       "[(7.773043918833567, 'Gone Girl'),\n",
       " (6.976295282563891, 'Kill the Messenger'),\n",
       " (4.093380589669568, 'Horrible Bosses 2')]"
      ]
     },
     "execution_count": 22,
     "metadata": {},
     "output_type": "execute_result"
    }
   ],
   "source": [
    "getRecommendations(movie_user_preferences,'Toby', similarity = sim_distance)"
   ]
  },
  {
   "cell_type": "markdown",
   "metadata": {},
   "source": [
    "We now have created a User based collaborative filtering"
   ]
  },
  {
   "cell_type": "markdown",
   "metadata": {},
   "source": [
    "## Item Based Collaborative Filtering"
   ]
  },
  {
   "cell_type": "markdown",
   "metadata": {},
   "source": [
    "User based collaborative filtering finds the similiarity between users and then using the items in among the similar user, recommendation is made. \n",
    "\n",
    "Item based collaborative filtering finds the similiarity between the items. This is then used to find the new recommendations for a user\n",
    "\n",
    "To begin with the Item based collaborative filtering, we'll first have to invert our dataset by putting the movies as the 1st layer followed by the users as the 2nd layer"
   ]
  },
  {
   "cell_type": "code",
   "execution_count": 23,
   "metadata": {
    "collapsed": false
   },
   "outputs": [
    {
     "data": {
      "text/plain": [
       "{'Avenger: Age of Ultron': {'Jill': 7.0,\n",
       "  'Julia': 10.0,\n",
       "  'Max': 7.0,\n",
       "  'Robert': 8.0,\n",
       "  'Sam': 10.0,\n",
       "  'Toby': 8.5,\n",
       "  'William': 6.0},\n",
       " 'Django Unchained': {'Jill': 6.5,\n",
       "  'Julia': 6.0,\n",
       "  'Max': 7.0,\n",
       "  'Robert': 7.0,\n",
       "  'Sam': 7.5,\n",
       "  'Toby': 9.0,\n",
       "  'William': 8.0},\n",
       " 'Gone Girl': {'Jill': 9.0,\n",
       "  'Julia': 6.5,\n",
       "  'Max': 10.0,\n",
       "  'Sam': 6.0,\n",
       "  'William': 7.0},\n",
       " 'Horrible Bosses 2': {'Max': 6.0, 'Robert': 5.0, 'Sam': 3.0, 'William': 4.0},\n",
       " 'Kill the Messenger': {'Jill': 8.0,\n",
       "  'Julia': 6.0,\n",
       "  'Max': 5.0,\n",
       "  'Robert': 9.0,\n",
       "  'Sam': 5.5,\n",
       "  'William': 6.5},\n",
       " 'Zoolander': {'Julia': 6.5,\n",
       "  'Max': 10.0,\n",
       "  'Robert': 9.0,\n",
       "  'Sam': 7.0,\n",
       "  'Toby': 2.0,\n",
       "  'William': 4.0}}"
      ]
     },
     "execution_count": 23,
     "metadata": {},
     "output_type": "execute_result"
    }
   ],
   "source": [
    "def transformPrefs(prefs):\n",
    "    result={}\n",
    "    for person in prefs:\n",
    "        for item in prefs[person]:\n",
    "            result.setdefault(item,{})\n",
    "            \n",
    "            # Flip item and person\n",
    "            result[item][person]=prefs[person][item]\n",
    "    return result\n",
    "\n",
    "transformPrefs(movie_user_preferences)"
   ]
  },
  {
   "cell_type": "markdown",
   "metadata": {},
   "source": [
    "Now we would like to find the similar movies for each of the movies"
   ]
  },
  {
   "cell_type": "code",
   "execution_count": 27,
   "metadata": {
    "collapsed": false
   },
   "outputs": [
    {
     "data": {
      "text/plain": [
       "{'Avenger: Age of Ultron': [(0.034782608695652174, 'Django Unchained'),\n",
       "  (0.023121387283236993, 'Gone Girl'),\n",
       "  (0.022988505747126436, 'Kill the Messenger'),\n",
       "  (0.015625, 'Horrible Bosses 2'),\n",
       "  (0.012738853503184714, 'Zoolander')],\n",
       " 'Django Unchained': [(0.05714285714285714, 'Kill the Messenger'),\n",
       "  (0.05063291139240506, 'Gone Girl'),\n",
       "  (0.034782608695652174, 'Avenger: Age of Ultron'),\n",
       "  (0.023668639053254437, 'Horrible Bosses 2'),\n",
       "  (0.012578616352201259, 'Zoolander')],\n",
       " 'Gone Girl': [(0.09090909090909091, 'Zoolander'),\n",
       "  (0.05063291139240506, 'Django Unchained'),\n",
       "  (0.036036036036036036, 'Kill the Messenger'),\n",
       "  (0.02857142857142857, 'Horrible Bosses 2'),\n",
       "  (0.023121387283236993, 'Avenger: Age of Ultron')],\n",
       " 'Horrible Bosses 2': [(0.03278688524590164, 'Kill the Messenger'),\n",
       "  (0.02857142857142857, 'Gone Girl'),\n",
       "  (0.023668639053254437, 'Django Unchained'),\n",
       "  (0.02040816326530612, 'Zoolander'),\n",
       "  (0.015625, 'Avenger: Age of Ultron')],\n",
       " 'Kill the Messenger': [(0.05714285714285714, 'Django Unchained'),\n",
       "  (0.036036036036036036, 'Gone Girl'),\n",
       "  (0.03278688524590164, 'Horrible Bosses 2'),\n",
       "  (0.02877697841726619, 'Zoolander'),\n",
       "  (0.022988505747126436, 'Avenger: Age of Ultron')],\n",
       " 'Zoolander': [(0.09090909090909091, 'Gone Girl'),\n",
       "  (0.02877697841726619, 'Kill the Messenger'),\n",
       "  (0.02040816326530612, 'Horrible Bosses 2'),\n",
       "  (0.012738853503184714, 'Avenger: Age of Ultron'),\n",
       "  (0.012578616352201259, 'Django Unchained')]}"
      ]
     },
     "execution_count": 27,
     "metadata": {},
     "output_type": "execute_result"
    }
   ],
   "source": [
    "def calculateSimilarItems(prefs,n=10):\n",
    "    # Create a dictionary of items showing which other items they\n",
    "    # are most similar to.\n",
    "    result={}\n",
    "    \n",
    "    # Invert the preference matrix to be item-centric\n",
    "    itemPrefs=transformPrefs(prefs)\n",
    "    c=0\n",
    "    for item in itemPrefs:\n",
    "        # Status updates for large datasets\n",
    "        c+=1\n",
    "        if c%100==0: print(\"%d / %d\" % (c,len(itemPrefs)))\n",
    "        # Find the most similar items to this one\n",
    "        scores=topMatches(itemPrefs,item,n=n,similarity=sim_distance)\n",
    "        result[item]=scores\n",
    "    return result\n",
    "\n",
    "itemsim=calculateSimilarItems(movie_user_preferences)\n",
    "itemsim"
   ]
  },
  {
   "cell_type": "markdown",
   "metadata": {},
   "source": [
    "Once we have the similiarity between all the movies. We would like to generate the recommendations for a user. \n",
    "\n",
    "The table below shows the movies seen by Toby under the Movie column and the rating given by Toby. The movie columns are the similiarity of the movie with the ones seen by Toby. The columns with R as a prefix is the product of the Rating and similiarity score. \n",
    "\n",
    "Finally we normalize the values by summing the R prefixed column then divided by the sum of the similiarity score of the movie column.\n",
    "\n",
    "The Table below shows Kill The Messenger is the most recommended movie."
   ]
  },
  {
   "cell_type": "markdown",
   "metadata": {},
   "source": [
    "<img src=\"files/images/similiarity2.png\">"
   ]
  },
  {
   "cell_type": "markdown",
   "metadata": {},
   "source": [
    "We would now like to generate the recommendations by encompassing the above logic"
   ]
  },
  {
   "cell_type": "code",
   "execution_count": 28,
   "metadata": {
    "collapsed": false
   },
   "outputs": [],
   "source": [
    "def getRecommendedItems(prefs,itemMatch,user):\n",
    "    userRatings=prefs[user]\n",
    "    scores={}\n",
    "    totalSim={}\n",
    "    \n",
    "    # Loop over items rated by this user\n",
    "    for (item,rating) in userRatings.items( ):\n",
    "        \n",
    "        # Loop over items similar to this one\n",
    "        for (similarity,item2) in itemMatch[item]:\n",
    "            \n",
    "            # Ignore if this user has already rated this item\n",
    "            if item2 in userRatings: continue\n",
    "                \n",
    "            # Weighted sum of rating times similarity\n",
    "            scores.setdefault(item2,0)\n",
    "            scores[item2]+=similarity*rating\n",
    "            \n",
    "            # Sum of all the similarities\n",
    "            totalSim.setdefault(item2,0)\n",
    "            totalSim[item2]+=similarity\n",
    "            \n",
    "    # Divide each total score by total weighting to get an average\n",
    "    rankings=[(score/totalSim[item],item) for item,score in scores.items( )]\n",
    "    \n",
    "    # Return the rankings from highest to lowest\n",
    "    rankings.sort( )\n",
    "    rankings.reverse( )\n",
    "    return rankings"
   ]
  },
  {
   "cell_type": "markdown",
   "metadata": {},
   "source": [
    "Let's generate recommendations for Toby using the Item Based Recommender"
   ]
  },
  {
   "cell_type": "code",
   "execution_count": 29,
   "metadata": {
    "collapsed": false
   },
   "outputs": [
    {
     "data": {
      "text/plain": [
       "[(7.044841200971884, 'Kill the Messenger'),\n",
       " (6.476296577225752, 'Horrible Bosses 2'),\n",
       " (5.0651585538275095, 'Gone Girl')]"
      ]
     },
     "execution_count": 29,
     "metadata": {},
     "output_type": "execute_result"
    }
   ],
   "source": [
    "getRecommendedItems(movie_user_preferences, itemsim,'Toby')"
   ]
  },
  {
   "cell_type": "code",
   "execution_count": null,
   "metadata": {
    "collapsed": true
   },
   "outputs": [],
   "source": []
  }
 ],
 "metadata": {
  "anaconda-cloud": {},
  "kernelspec": {
   "display_name": "Python [default]",
   "language": "python",
   "name": "python3"
  },
  "language_info": {
   "codemirror_mode": {
    "name": "ipython",
    "version": 3
   },
   "file_extension": ".py",
   "mimetype": "text/x-python",
   "name": "python",
   "nbconvert_exporter": "python",
   "pygments_lexer": "ipython3",
   "version": "3.5.2"
  }
 },
 "nbformat": 4,
 "nbformat_minor": 0
}
