{
 "cells": [
  {
   "cell_type": "markdown",
   "metadata": {},
   "source": [
    "# 수치데이터의 전처리\n",
    "\n",
    "기계학습에 사용되는 많은 알고리즘들 예를 들어 [RBF kernel](https://en.wikipedia.org/wiki/Radial_basis_function_kernel) 기반의 [서포트벡터머신](https://en.wikipedia.org/wiki/Support_vector_machine)이나 [회귀분석](https://en.wikipedia.org/wiki/Linear_regression) 모델에서는 수치 데이터에 대해서 표준 정규 분포를 가정하고 있다. 즉, 데이터의 평균이 0 이고 분산이 1 인 정규분포를 따른다고 가정한다. 만일 주어진 데이터가 이러한 표준정규 분포가 아니라면 이를 표준정규 분포를 갖도록 변환해야 한다. 왜냐하면 데이터 분석에는 여러개의 변수 (특성값)이 사용될 수 있는데 이들의 절대 값이 임의의 분포를 갖는다면 절대치가 큰 변수에 따라 특성이 크게 영향을 받기 때문이다. 즉, 모든 변수의 변화 범위를 정규화 한 후에 데이터분석에 사용해야 한다. \n",
    "\n",
    "이 예에서는 주어진 수치 데이터를 일정한 비율로 조절하여 표준 정규 분포 등으로 재구성하는 방법을 소개하며 파이선이 제공하는 [sklearn](http://scikit-learn.org/)라이브러리를 사용하겠다. 이번 예에서는 태양의 흑점 데이터를 사용한다."
   ]
  },
  {
   "cell_type": "code",
   "execution_count": 3,
   "metadata": {
    "collapsed": false
   },
   "outputs": [
    {
     "name": "stdout",
     "output_type": "stream",
     "text": [
      "11688    253\n",
      "11689    162\n",
      "11690    217\n",
      "11691     99\n",
      "11692    108\n",
      "11693    203\n",
      "11694    142\n",
      "11695     76\n",
      "11696     95\n",
      "11697    124\n",
      "11698    162\n",
      "11699    188\n",
      "11700    146\n",
      "11701    139\n",
      "11702     65\n",
      "11703    141\n",
      "11704    124\n",
      "11705    112\n",
      "11706    101\n",
      "11707     89\n",
      "11708     78\n",
      "11709     84\n",
      "11710     87\n",
      "11711    160\n",
      "11712    270\n",
      "11713    247\n",
      "11714    222\n",
      "11715    211\n",
      "11716    199\n",
      "11717    188\n",
      "        ... \n",
      "72593     15\n",
      "72594     36\n",
      "72595     40\n",
      "72596     41\n",
      "72597     56\n",
      "72598     59\n",
      "72599     63\n",
      "72600     69\n",
      "72601     66\n",
      "72602     64\n",
      "72603     41\n",
      "72604     41\n",
      "72605     41\n",
      "72606     36\n",
      "72607     32\n",
      "72608     25\n",
      "72609     29\n",
      "72610     30\n",
      "72611     16\n",
      "72612     28\n",
      "72613     28\n",
      "72614     15\n",
      "72615     15\n",
      "72616     17\n",
      "72617     29\n",
      "72618     25\n",
      "72619     36\n",
      "72620     23\n",
      "72621     14\n",
      "72622     13\n",
      "Name: combined_count, dtype: int64\n"
     ]
    }
   ],
   "source": [
    "from data.load_sunspot_counts import load_sunspot_counts\n",
    "data = load_sunspot_counts()\n",
    "data = data[data['year'] >= 1850] \n",
    "# 값을 갖는 연도인 1850년 이후만 다룬다\n",
    "counts = data['combined_count']\n",
    "print(counts)"
   ]
  },
  {
   "cell_type": "markdown",
   "metadata": {},
   "source": [
    "scikit-learn 라이브러리는 편리한 [scale](http://scikit-learn.org/stable/modules/generated/sklearn.preprocessing.scale.html#sklearn.preprocessing.scale) 함수를 제공하는데 이는 각 데이터 세트의 크기를 원하는 방식으로 일정하게 스케일링해 준다."
   ]
  },
  {
   "cell_type": "code",
   "execution_count": 4,
   "metadata": {
    "collapsed": false
   },
   "outputs": [
    {
     "name": "stdout",
     "output_type": "stream",
     "text": [
      "[ 2.17027704  0.99315236  1.70460134 ..., -0.80487325 -0.92129217\n",
      " -0.93422761]\n"
     ]
    },
    {
     "name": "stderr",
     "output_type": "stream",
     "text": [
      "/usr/local/lib/python3.5/site-packages/sklearn/utils/validation.py:429: DataConversionWarning: Data with input dtype int64 was converted to float64 by the scale function.\n",
      "  warnings.warn(msg, _DataConversionWarning)\n"
     ]
    }
   ],
   "source": [
    "from sklearn import preprocessing\n",
    "counts_scaled = preprocessing.scale(counts)\n",
    "print(counts_scaled)"
   ]
  },
  {
   "cell_type": "markdown",
   "metadata": {},
   "source": [
    "이제 데이터의 평균이 0 이고 분산이 1 인지를 확인하겠다."
   ]
  },
  {
   "cell_type": "code",
   "execution_count": 5,
   "metadata": {
    "collapsed": false
   },
   "outputs": [
    {
     "name": "stdout",
     "output_type": "stream",
     "text": [
      "8.58225081676e-17\n",
      "1.0\n"
     ]
    }
   ],
   "source": [
    "print(counts_scaled.mean(axis=0)) \n",
    "print(counts_scaled.std(axis=0))"
   ]
  },
  {
   "cell_type": "markdown",
   "metadata": {},
   "source": [
    "평균이 8.58225081676e-17 인데 이는 0.0000000000000000858225081676 으로 거의 0이라고 하겠다. 분산은 1인 것을 확인하였다.\n",
    "교차검증 데이터 처리 프로그램 예에서, 교차검증이 왜 유용한지를 설명하였다. 훈련용 데이터 뿐 아니라 테스트용 데이터도 반드시 스케일을 해두어야 한다. 경우에 따라서는 테스트 데이터를 미리 처리하는 것을 잊는 경우가 있는데 즉, 평균을 0 으로 바꾸고 분산을 1로 만드는 작업을 간혹 놓치는 경우가 있다. 또한 훈련용 데이터에 대하여 적용하는 것과 똑같은 방식으로 테스트용 데이터를 처리 해야 한다. 다행이 scikit-learn 라이브러리는 편리하게 이러한 기능을 [StandardScaler](http://scikit-learn.org/stable/modules/generated/sklearn.preprocessing.StandardScaler.html#sklearn.preprocessing.StandardScaler) 으로 제공한다."
   ]
  },
  {
   "cell_type": "code",
   "execution_count": 11,
   "metadata": {
    "collapsed": false
   },
   "outputs": [
    {
     "name": "stdout",
     "output_type": "stream",
     "text": [
      "[ -9.74815753e-17]\n",
      "[ 1.]\n",
      "[-0.00169314]\n",
      "[ 0.99657483]\n"
     ]
    },
    {
     "name": "stderr",
     "output_type": "stream",
     "text": [
      "/usr/local/lib/python3.5/site-packages/sklearn/utils/validation.py:429: DataConversionWarning: Data with input dtype int64 was converted to float64 by StandardScaler.\n",
      "  warnings.warn(msg, _DataConversionWarning)\n"
     ]
    }
   ],
   "source": [
    "# 먼저 counts 두가지 세트로 나눈다\n",
    "from sklearn.utils import shuffle\n",
    "counts = shuffle(counts)\n",
    "counts_train = counts[::2].values.reshape(-1, 1) # all even indices\n",
    "counts_test = counts[1::2].values.reshape(-1, 1) # all odd indices \n",
    "\n",
    "# 훈련용 데이터에 대하여 스케일러를 설정한다\n",
    "scaler = preprocessing.StandardScaler().fit(counts_train)\n",
    "\n",
    "# 훈련용 데이터와 테스트 데이터를 모두 스케일링 한다\n",
    "scaled_counts_train = scaler.transform(counts_train)\n",
    "scaled_counts_test = scaler.transform(counts_test)\n",
    "\n",
    "# 훈련용 데이터의 평균치와 분산이 각각 0 과 1 인지 확인한다\n",
    "print(scaled_counts_train.mean(axis=0))\n",
    "print(scaled_counts_train.std(axis=0))\n",
    "\n",
    "# 테스트 데이터의 평균치와 분산이 각각 0 과 1 인지 확인한다\n",
    "print(scaled_counts_test.mean(axis=0))\n",
    "print(scaled_counts_test.std(axis=0))"
   ]
  }
 ],
 "metadata": {
  "anaconda-cloud": {},
  "kernelspec": {
   "display_name": "Python [default]",
   "language": "python",
   "name": "python3"
  },
  "language_info": {
   "codemirror_mode": {
    "name": "ipython",
    "version": 3
   },
   "file_extension": ".py",
   "mimetype": "text/x-python",
   "name": "python",
   "nbconvert_exporter": "python",
   "pygments_lexer": "ipython3",
   "version": "3.5.2"
  }
 },
 "nbformat": 4,
 "nbformat_minor": 1
}
