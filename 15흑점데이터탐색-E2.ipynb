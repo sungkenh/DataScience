{
 "cells": [
  {
   "cell_type": "markdown",
   "metadata": {
    "collapsed": true
   },
   "source": [
    "# 태양 흑점 데이터 탐색\n",
    "\n",
    "태양의 흑점 데이터를 탐색하는 예를 소개하겠다.\n",
    "먼저 아래의 내용은 흑점 데이터를 수집하는 예에서 설명한 내용을 반복한 것이다.\n",
    "\n",
    "<p style=\"text-align:center;\"><img src=files/sunspots.jpeg title=\"A white light image taken with the HMI instrument on the Solar Dynamics Observatory on 23-Oct-14 15:59:45. This is the largest sunspot group of solar cycle 24.\" style=\"width: 60%\"></p>\n",
    "\n",
    "<p style=\"text-align:center;\">*지난 25년간 가장 큰 태양 흑점 그룹*</p>\n",
    "\n",
    "[태양활동](http://www.thesuntoday.org/the-sun/solar-activity/) 은 다음과 같은 다양한 활동으로 나타나고 있다:[태양폭풍](https://en.wikipedia.org/wiki/Solar_wind), [태양화염](https://en.wikipedia.org/wiki/Solar_flare), [코로나 대량 방출](https://en.wikipedia.org/wiki/Coronal_mass_ejection), [태양 에너지 입자](https://en.wikipedia.org/wiki/Solar_energetic_particles), [흑점](https://en.wikipedia.org/wiki/Sunspot) 등이며 이들은 오랫동안 지구상에 많은 영향을 미친 것으로 알려져왔다. 예를 들어 [태양폭풍](https://en.wikipedia.org/wiki/Solar_wind)은 태양의 상류 기류에서 나오는 프라즈마의 스트림이며 이것이 지구 남극과 북극의 오로라를 만드는 원인이다.\n",
    "\n",
    "<p style=\"text-align:center;\"><img src=https://upload.wikimedia.org/wikipedia/commons/thumb/2/26/Aurora_Borealis_and_Australis_Poster.jpg/1280px-Aurora_Borealis_and_Australis_Poster.jpg title=\"Northern and Southern Lights. Taken from wikimedia.\" style=\"width: 40%\"></p>\n",
    "\n",
    "왜 이러한 현상이 발생할까? 그리고 각각의 활동들은 서로 어떤 관련이 있을까? 그리고 이러한 활동이 지구상의 생명에 어떤 영향을 주었는지가 오랫동안 연구되어 왔다. 이 예제에서는 이러한 활동 중에 태양의 흑점에 대한 데이터를 분석하겠다.\n",
    "\n",
    "###### 흑점\n",
    "[흑점](https://en.wikipedia.org/wiki/Sunspot) 은 태양 표면에서 온도가 주위보다 낮은 영역을 가리킨다. 이러한 현상은 며칠 또는 몇달간 계속될 수 있으며, 흑점의 크기는 반경이 16km에서 16만km까지 다양하다. 흑점의 클 때에는 지구에서 눈으로 직접 확인할 수도 있다.\n",
    "\n",
    "일반적으로 흑점은 강한 자장의 활동을 나타낸다. 주변의 다른 활동과 연관되기도 하는데 다음과 같은 현상이 관련이 있는 것으로 알려져 있다: [coronal loops](https://en.wikipedia.org/wiki/Coronal_loop), [reconnection events](https://en.wikipedia.org/wiki/Magnetic_reconnection#The_Solar_Atmosphere), [solar flares](https://en.wikipedia.org/wiki/Solar_flare), 그리고 [coronal mass ejections](https://en.wikipedia.org/wiki/Coronal_mass_ejection). 오랫동안 과학자들은 흑점의 수를 파악하는 것이 태양의 활동을 예측하는데 중요한 요소로 활용하였으며 1847년부터 이러한 측정을 하였다고 한다. \n",
    "\n",
    "###### 흑점의 측정\n",
    "가장 기본적으로 흑점을 측정하는 방법은 망원경을 보면서 눈으로 흑점의 수를 세는 것이다. 최초로 이러한 측정을 한 사람은 [Rudolf Wolf](https://en.wikipedia.org/wiki/Rudolf_Wolf)인데, 사람마다 흑점을 측정한 숫자가 다르다는 문제가 있었다 (사람마다 시력이 다르므로). 루돌프 울프는 흑점이 한 지역에 모여서 나타나며 각 지역은 약 10개의 흑점이 모인다는 것을 발견하였다. 이렇게 그룹으로 나타나는 흑점과 개별적으로 나타나는 흑점에 가중치를 두어 다음과 같이 표현하는 방법을 제안하였다. \n",
    "<p style=\"text-align:center;\">`R = k(S + 10G)`</p>\n",
    "\n",
    "여기서 R은 Wolf 넘버인데, 하루에 나타나는 전체 흑점의 숫자이다. S는 개별적으로 나타나는 흑점의 갯수이고, G는 그룹으로 나타나는 흑점 그룹 수를 나타낸다. 그리고 k는 흑점을 세는 사람의 시력과 관련된 상수를 나타낸다. 예를 들어 모든 흑점을 잘 찾아내는 사람의 경우 이 값은 1이 되는 셈이다. 위에 소개한 모델은 지금까지 대체로 잘 맞는 모델로 인정받고 있다.\n",
    "\n",
    "흑점에 대해서 더 정교하게 관측하는 방법에 대해서는 다음의 논문을 참고하기 바란다.\n",
    "- https://wattsupwiththat.com/2013/01/04/counting-sunspots-and-sunspot-inflation/ \n",
    "- http://www.skyandtelescope.com/astronomy-news/how-astronomers-count-sunspots15022016513/ \n",
    "\n",
    "###### 데이터 소스\n",
    "흑점에 대한 데이터는 일반적으로 태양 데이터 센터 [Solar Influences Data Analysis Center](http://sidc.be/) (SIDC)에서 구할 수 있으며, 다음의 사이트에서 제공된다 \"[World Data Center for the production, preservation and dissemination of the international sunspot number](http://sidc.be/silso/home)\". \n",
    "\n",
    "데이터를 다음 사이트에서 얻을 수 있다. \n",
    "\n",
    "- http://sidc.be/silso/datafiles\n",
    "\n",
    "CSV 형식의 데이터를 아래에서 다운로드 받을 수 있다.\n",
    "\n",
    "- http://sidc.be/silso/INFO/sndtotcsv.php\n",
    "\n",
    "이 파일은 다음과 같은 구조로 되어있다.\n",
    "\n",
    "```\n",
    "CSV  \n",
    "-------------------------------------------------------------------------------  \n",
    "Filename: SN_d_tot_V2.0.csv\n",
    "Format: Comma Separated values (adapted for import in spreadsheets)\n",
    "The separator is the semicolon ';'.\n",
    "\n",
    "Contents:  \n",
    "Column 1-3: Gregorian calendar date\n",
    "- Year\n",
    "- Month\n",
    "- Day  \n",
    "\n",
    "Column 4: Date in fraction of year.  \n",
    "Column 5: Daily total sunspot number. A value of -1 indicates that no number is available for that day (missing value).  \n",
    "Column 6: Daily standard deviation of the input sunspot numbers from individual stations.  \n",
    "Column 7: Number of observations used to compute the daily value.  \n",
    "Column 8: Definitive/provisional indicator. '1' indicates that the value is definitive. '0' indicates that the value is still provisional.  \n",
    "```"
   ]
  },
  {
   "cell_type": "markdown",
   "metadata": {},
   "source": [
    "이제 데이터를 로드하기 위해서 \"데이터 수집 프로그램\"에서 정의한 load_sunspot_counts() 함수를 사용하겠다. "
   ]
  },
  {
   "cell_type": "code",
   "execution_count": 1,
   "metadata": {
    "collapsed": true
   },
   "outputs": [],
   "source": [
    "from data.load_sunspot_counts import load_sunspot_counts\n",
    "data = load_sunspot_counts()"
   ]
  },
  {
   "cell_type": "markdown",
   "metadata": {},
   "source": [
    "위와 같이 얻은 데이터는 흑점의 \"매일\"의 기록이다. 즉, 데이터를 기록한 첫날부터 마지막 날까지 모든 날자의 데이터를 포함하고 있다. 데이터의 앞부분의 네개의 컬럼 데이터 (year, month, day, date_as_fraction_of_year)를 먼저 파악해 보겠다."
   ]
  },
  {
   "cell_type": "code",
   "execution_count": 2,
   "metadata": {
    "collapsed": false
   },
   "outputs": [],
   "source": [
    "dates = data['date_as_fraction_of_year'].values.tolist()\n",
    "sorted_dates = sorted(dates)\n",
    "assert((dates == sorted_dates))"
   ]
  },
  {
   "cell_type": "markdown",
   "metadata": {},
   "source": [
    "위의 코드에서 날짜들이 이미 순서대로 정리되어 있는 것을 확인하였다."
   ]
  },
  {
   "cell_type": "code",
   "execution_count": 3,
   "metadata": {
    "collapsed": false
   },
   "outputs": [
    {
     "name": "stdout",
     "output_type": "stream",
     "text": [
      "1818.001\n",
      "2016.832\n"
     ]
    }
   ],
   "source": [
    "earliest_date = dates[0]\n",
    "latest_date = dates[-1]\n",
    "print(earliest_date)\n",
    "print(latest_date)"
   ]
  },
  {
   "cell_type": "markdown",
   "metadata": {},
   "source": [
    "위의 결과를 보면 쉽게 이해되지 않는 포맷이다. 디를 다르게 표현해보겠다."
   ]
  },
  {
   "cell_type": "code",
   "execution_count": 4,
   "metadata": {
    "collapsed": false
   },
   "outputs": [
    {
     "name": "stdout",
     "output_type": "stream",
     "text": [
      "Earliest Date: 1818-1-1\n",
      "Latest Date: 2016-10-31\n"
     ]
    }
   ],
   "source": [
    "first_row = data.iloc[0]\n",
    "year, month, day = int(first_row['year']), int(first_row['month']), int(first_row['day'])\n",
    "print(\"Earliest Date: {}-{}-{}\".format(year, month, day))\n",
    "\n",
    "last_row = data.iloc[-1]\n",
    "year, month, day = int(last_row['year']), int(last_row['month']), int(last_row['day'])\n",
    "print(\"Latest Date: {}-{}-{}\".format(year, month, day))"
   ]
  },
  {
   "cell_type": "markdown",
   "metadata": {},
   "source": [
    "이 전체 데이터중에 어떤 데이터들이 아직 확정되지 않은 데이터 인지, 즉 검증중인지 (provisional) 찾아보겠다."
   ]
  },
  {
   "cell_type": "code",
   "execution_count": 5,
   "metadata": {
    "collapsed": false
   },
   "outputs": [
    {
     "name": "stdout",
     "output_type": "stream",
     "text": [
      "Counter({1: 72500, 0: 123})\n"
     ]
    }
   ],
   "source": [
    "from collections import Counter\n",
    "definitive_or_not = data['definitive_or_not'].values.tolist()\n",
    "counter = Counter(definitive_or_not)\n",
    "print(counter)"
   ]
  },
  {
   "cell_type": "markdown",
   "metadata": {},
   "source": [
    "전체 데이터 중에 123개의 데이터가 아직 미확정인 것을 알 수 있다. 여기에 해당하는 날짜들을 출력해보면 다음과 같다."
   ]
  },
  {
   "cell_type": "code",
   "execution_count": 6,
   "metadata": {
    "collapsed": false
   },
   "outputs": [
    {
     "name": "stdout",
     "output_type": "stream",
     "text": [
      "Date: 2016-7-1\n",
      "Date: 2016-7-2\n",
      "Date: 2016-7-3\n",
      "Date: 2016-7-4\n",
      "Date: 2016-7-5\n",
      "Date: 2016-7-6\n",
      "Date: 2016-7-7\n",
      "Date: 2016-7-8\n",
      "Date: 2016-7-9\n",
      "Date: 2016-7-10\n",
      "Date: 2016-7-11\n",
      "Date: 2016-7-12\n",
      "Date: 2016-7-13\n",
      "Date: 2016-7-14\n",
      "Date: 2016-7-15\n",
      "Date: 2016-7-16\n",
      "Date: 2016-7-17\n",
      "Date: 2016-7-18\n",
      "Date: 2016-7-19\n",
      "Date: 2016-7-20\n",
      "Date: 2016-7-21\n",
      "Date: 2016-7-22\n",
      "Date: 2016-7-23\n",
      "Date: 2016-7-24\n",
      "Date: 2016-7-25\n",
      "Date: 2016-7-26\n",
      "Date: 2016-7-27\n",
      "Date: 2016-7-28\n",
      "Date: 2016-7-29\n",
      "Date: 2016-7-30\n",
      "Date: 2016-7-31\n",
      "Date: 2016-8-1\n",
      "Date: 2016-8-2\n",
      "Date: 2016-8-3\n",
      "Date: 2016-8-4\n",
      "Date: 2016-8-5\n",
      "Date: 2016-8-6\n",
      "Date: 2016-8-7\n",
      "Date: 2016-8-8\n",
      "Date: 2016-8-9\n",
      "Date: 2016-8-10\n",
      "Date: 2016-8-11\n",
      "Date: 2016-8-12\n",
      "Date: 2016-8-13\n",
      "Date: 2016-8-14\n",
      "Date: 2016-8-15\n",
      "Date: 2016-8-16\n",
      "Date: 2016-8-17\n",
      "Date: 2016-8-18\n",
      "Date: 2016-8-19\n",
      "Date: 2016-8-20\n",
      "Date: 2016-8-21\n",
      "Date: 2016-8-22\n",
      "Date: 2016-8-23\n",
      "Date: 2016-8-24\n",
      "Date: 2016-8-25\n",
      "Date: 2016-8-26\n",
      "Date: 2016-8-27\n",
      "Date: 2016-8-28\n",
      "Date: 2016-8-29\n",
      "Date: 2016-8-30\n",
      "Date: 2016-8-31\n",
      "Date: 2016-9-1\n",
      "Date: 2016-9-2\n",
      "Date: 2016-9-3\n",
      "Date: 2016-9-4\n",
      "Date: 2016-9-5\n",
      "Date: 2016-9-6\n",
      "Date: 2016-9-7\n",
      "Date: 2016-9-8\n",
      "Date: 2016-9-9\n",
      "Date: 2016-9-10\n",
      "Date: 2016-9-11\n",
      "Date: 2016-9-12\n",
      "Date: 2016-9-13\n",
      "Date: 2016-9-14\n",
      "Date: 2016-9-15\n",
      "Date: 2016-9-16\n",
      "Date: 2016-9-17\n",
      "Date: 2016-9-18\n",
      "Date: 2016-9-19\n",
      "Date: 2016-9-20\n",
      "Date: 2016-9-21\n",
      "Date: 2016-9-22\n",
      "Date: 2016-9-23\n",
      "Date: 2016-9-24\n",
      "Date: 2016-9-25\n",
      "Date: 2016-9-26\n",
      "Date: 2016-9-27\n",
      "Date: 2016-9-28\n",
      "Date: 2016-9-29\n",
      "Date: 2016-9-30\n",
      "Date: 2016-10-1\n",
      "Date: 2016-10-2\n",
      "Date: 2016-10-3\n",
      "Date: 2016-10-4\n",
      "Date: 2016-10-5\n",
      "Date: 2016-10-6\n",
      "Date: 2016-10-7\n",
      "Date: 2016-10-8\n",
      "Date: 2016-10-9\n",
      "Date: 2016-10-10\n",
      "Date: 2016-10-11\n",
      "Date: 2016-10-12\n",
      "Date: 2016-10-13\n",
      "Date: 2016-10-14\n",
      "Date: 2016-10-15\n",
      "Date: 2016-10-16\n",
      "Date: 2016-10-17\n",
      "Date: 2016-10-18\n",
      "Date: 2016-10-19\n",
      "Date: 2016-10-20\n",
      "Date: 2016-10-21\n",
      "Date: 2016-10-22\n",
      "Date: 2016-10-23\n",
      "Date: 2016-10-24\n",
      "Date: 2016-10-25\n",
      "Date: 2016-10-26\n",
      "Date: 2016-10-27\n",
      "Date: 2016-10-28\n",
      "Date: 2016-10-29\n",
      "Date: 2016-10-30\n",
      "Date: 2016-10-31\n"
     ]
    }
   ],
   "source": [
    "provisional_data = data[data['definitive_or_not'] == 0]\n",
    "for index, row in provisional_data.iterrows():\n",
    "    year, month, day = int(row['year']), int(row['month']), int(row['day'])\n",
    "    print(\"Date: {}-{}-{}\".format(year, month, day))"
   ]
  },
  {
   "cell_type": "markdown",
   "metadata": {},
   "source": [
    "위의 미확정 날자를 보면 지난 과거 3개월 기간에 속해 있는 것을 알 수 있다. 이것은 데이터가 확정되는 과정 기간이라고 추정해볼 수 있다. 흑점수 관찰에는 많은 사람들이 참여하고 있으므로 이들이 관측한 데이터를 수집하고 정리하는데 3개월의 시간이 거리는 것이라고 추정할 수 있다. 이제 얼마나 많은 사람들이 흑점 관찰에 참여하고 있는지 사라펴보겠다."
   ]
  },
  {
   "cell_type": "code",
   "execution_count": 7,
   "metadata": {
    "collapsed": false
   },
   "outputs": [
    {
     "name": "stdout",
     "output_type": "stream",
     "text": [
      "Counter({1: 56288, 0: 3247, 20: 997, 18: 957, 17: 923, 19: 922, 16: 919, 21: 872, 15: 788, 22: 753, 14: 680, 23: 620, 13: 607, 12: 541, 11: 506, 24: 499, 10: 375, 25: 352, 9: 295, 26: 239, 8: 223, 27: 171, 7: 150, 28: 130, 29: 95, 6: 94, 30: 63, 5: 49, 4: 33, 31: 32, 33: 28, 32: 24, 35: 15, 36: 14, 37: 13, 39: 12, 40: 11, 44: 11, 3: 9, 34: 9, 38: 7, 41: 7, 42: 7, 46: 7, 43: 6, 47: 4, 2: 3, 45: 3, 52: 3, 48: 2, 49: 2, 51: 2, 54: 2, 50: 1, 57: 1})\n"
     ]
    },
    {
     "data": {
      "image/png": "[encoded data removed]",
      "text/plain": [
       "<matplotlib.figure.Figure at 0x10933e4e0>"
      ]
     },
     "metadata": {},
     "output_type": "display_data"
    }
   ],
   "source": [
    "counter = Counter(data['num_observations'])\n",
    "print(counter)\n",
    "\n",
    "import matplotlib.pyplot as plt\n",
    "%matplotlib inline\n",
    "plt.hist(data['num_observations'], bins=25, alpha=.6, color='g')\n",
    "plt.show()"
   ]
  },
  {
   "cell_type": "markdown",
   "metadata": {},
   "source": [
    "한사람이 참여한 경우가 가장 많은 것을 알 수 있다 (56288명), 그러나 10~60 번인 경우도 상당히 많은 것을 알 수 있다. 1회가 아닌 경우의 수가 어떻게 분포하는지 살펴보겠다."
   ]
  },
  {
   "cell_type": "code",
   "execution_count": 8,
   "metadata": {
    "collapsed": false
   },
   "outputs": [
    {
     "data": {
      "image/png": "[encoded data removed]",
      "text/plain": [
       "<matplotlib.figure.Figure at 0x115cd12b0>"
      ]
     },
     "metadata": {},
     "output_type": "display_data"
    }
   ],
   "source": [
    "reduced_data = data[data['num_observations'] != 1]\n",
    "\n",
    "plt.hist(reduced_data['year'], bins=10, alpha=.6, color='g')\n",
    "plt.show()"
   ]
  },
  {
   "cell_type": "markdown",
   "metadata": {},
   "source": [
    "위 그림을 보면 관측 횟수가 1이 아닌 경우의 수가 크게 나타나는 곳이 두 곳 있는 것을 알 수 있다. 이 영역에 대해서 자세히 알아보겠다."
   ]
  },
  {
   "cell_type": "code",
   "execution_count": 9,
   "metadata": {
    "collapsed": false
   },
   "outputs": [
    {
     "data": {
      "image/png": "[encoded data removed]",
      "text/plain": [
       "<matplotlib.figure.Figure at 0x1184b9dd8>"
      ]
     },
     "metadata": {},
     "output_type": "display_data"
    },
    {
     "data": {
      "image/png": "[encoded data removed]",
      "text/plain": [
       "<matplotlib.figure.Figure at 0x1186b0b38>"
      ]
     },
     "metadata": {},
     "output_type": "display_data"
    }
   ],
   "source": [
    "first_data = reduced_data[reduced_data['year'] < 1900]\n",
    "second_data = reduced_data[reduced_data['year'] > 1900]\n",
    "\n",
    "plt.hist(first_data['num_observations'], bins=10, alpha=.6, color='g')\n",
    "plt.show()\n",
    "\n",
    "plt.hist(second_data['num_observations'], bins=10, alpha=.6, color='g')\n",
    "plt.show()"
   ]
  },
  {
   "cell_type": "markdown",
   "metadata": {},
   "source": [
    "위 첫번째 히스토그램은 횟수가 0인 경우를 표시한 것으로서 정상적인 경우가 아니다. 이 부분을 좀 더 자세히 살펴보겠다."
   ]
  },
  {
   "cell_type": "code",
   "execution_count": 10,
   "metadata": {
    "collapsed": false
   },
   "outputs": [
    {
     "name": "stdout",
     "output_type": "stream",
     "text": [
      "Counter({0: 3247})\n"
     ]
    }
   ],
   "source": [
    "counter = Counter(first_data['num_observations'])\n",
    "print(counter)"
   ]
  },
  {
   "cell_type": "markdown",
   "metadata": {},
   "source": [
    "이러한 경우가 3247회나 있다는 것은 잘 이해가 되지 않는다. 한번도 관측하지 않고 어떻게 흑점의 수를 셀 수 있을까? 이에해당하는 날에 대해 좀 더 자세히 살펴보겠다."
   ]
  },
  {
   "cell_type": "code",
   "execution_count": 11,
   "metadata": {
    "collapsed": false
   },
   "outputs": [
    {
     "name": "stdout",
     "output_type": "stream",
     "text": [
      "Counter({-1: 3247})\n"
     ]
    }
   ],
   "source": [
    "counter = Counter(first_data['combined_count'])\n",
    "print(counter)"
   ]
  },
  {
   "cell_type": "markdown",
   "metadata": {},
   "source": [
    "관측이 없었다는 것은 사실은 관측하였는데 흑점이 발견되지 않았다는 것을 나타내고 이를 표현하기 위해서 흑점의 수를 -1로 지록한 것을 알 수 있다. 그러면 흑점이 발견되지 않은 전체 날자를 찾아보겠다. 즉, 앞으로의 분석에서 어떤 데이터를 무시하고 진행할지를 판단하기 위해서 해당 날짜를 찾아보려는 것이다. "
   ]
  },
  {
   "cell_type": "code",
   "execution_count": 12,
   "metadata": {
    "collapsed": false
   },
   "outputs": [
    {
     "name": "stdout",
     "output_type": "stream",
     "text": [
      "Counter({1837: 215, 1836: 200, 1835: 192, 1824: 172, 1839: 171, 1838: 164, 1818: 152, 1820: 142, 1847: 133, 1848: 132, 1840: 118, 1846: 118, 1819: 116, 1834: 105, 1845: 100, 1830: 97, 1832: 89, 1841: 88, 1831: 80, 1829: 74, 1833: 73, 1844: 72, 1828: 65, 1823: 63, 1821: 61, 1825: 55, 1842: 54, 1826: 45, 1843: 45, 1827: 44, 1822: 12})\n",
      "[1818, 1819, 1820, 1821, 1822, 1823, 1824, 1825, 1826, 1827, 1828, 1829, 1830, 1831, 1832, 1833, 1834, 1835, 1836, 1837, 1838, 1839, 1840, 1841, 1842, 1843, 1844, 1845, 1846, 1847, 1848]\n"
     ]
    }
   ],
   "source": [
    "reduced_data = data[data['combined_count'] == -1]\n",
    "counter = Counter(reduced_data['year'])\n",
    "print(counter)\n",
    "print(sorted(list(counter.keys())))"
   ]
  },
  {
   "cell_type": "markdown",
   "metadata": {},
   "source": [
    "해당하는 날짜를 보니 1848년 까지만 이러한 관측 수치가 등장하는 것을 알 수 있다. 따라서 1848년 이후의 데이터만 가지고 분석을 하면 어떤 데이터를 취하고 버릴지를 고민할 필요 없이 모든 데이터를 분석에 사용할 수 있을 것이다. (여유있게 1850년 이후의 데이트를 사용하겠다.)\n",
    "\n",
    "지금까지는 측정 날짜를 살펴보았는데, 이제 실제 측정된 흑점의 수를 살펴보겠다."
   ]
  },
  {
   "cell_type": "code",
   "execution_count": 13,
   "metadata": {
    "collapsed": false
   },
   "outputs": [
    {
     "data": {
      "image/png": "[encoded data removed]",
      "text/plain": [
       "<matplotlib.figure.Figure at 0x1185256d8>"
      ]
     },
     "metadata": {},
     "output_type": "display_data"
    }
   ],
   "source": [
    "reduced_data = data[data['year'] >= 1850]\n",
    "\n",
    "plt.hist(reduced_data['combined_count'], alpha=.6, color='g', bins=30)\n",
    "plt.show()"
   ]
  },
  {
   "cell_type": "markdown",
   "metadata": {},
   "source": [
    "이 그림을 보면 많은 정보를 얻을 수 있다. 이러한 분포는 파워 로 (power law) 분포일 수도 있고 로그노멀 분포일 수도 있다. 또한 표준편차와 측정된 숫자의 관계를 살펴볼 수도 있다. 시간의 흐름에 따라 흑점이 어떻게 나타나는지도 관찰 할 수 있을 것이다. 미확정된 흑점 측정 수치가 어떻게 바뀌었는지도 파악할 수 있으며 1850년대 이전에는 측정하지 못한 흑점 수를 어떻게 처리했는지도 알 수 있을 것이다. 또한 최초로 측정한 데이터로부터 어덯게 최종 흑점 그룹 공식(가중치 합산)으로 환산했는지도 알 수 있을 것이다.\n",
    "\n",
    "데이터를 탐색하는 과정에서는 많은 질문을 가질수록 다양하게 데이터를 탐색해볼 수 있다. 즉, 다양한 가능성을 추측해보는 것이 필요하다. 데이터를 다양하게 탐색할수록 데이터를 더 잘 이해할 수 있게 되며, 더 우수한 데이터 분석결과를 얻을 수 있게 된다."
   ]
  }
 ],
 "metadata": {
  "anaconda-cloud": {},
  "kernelspec": {
   "display_name": "Python [default]",
   "language": "python",
   "name": "python3"
  },
  "language_info": {
   "codemirror_mode": {
    "name": "ipython",
    "version": 3
   },
   "file_extension": ".py",
   "mimetype": "text/x-python",
   "name": "python",
   "nbconvert_exporter": "python",
   "pygments_lexer": "ipython3",
   "version": "3.5.2"
  }
 },
 "nbformat": 4,
 "nbformat_minor": 1
}
